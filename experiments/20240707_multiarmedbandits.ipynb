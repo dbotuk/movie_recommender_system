{
 "cells": [
  {
   "cell_type": "code",
   "execution_count": 1,
   "metadata": {},
   "outputs": [],
   "source": [
    "import sys\n",
    "import os\n",
    "\n",
    "current_dir = os.getcwd()\n",
    "project_root = os.path.abspath(os.path.join(current_dir, '..'))\n",
    "sys.path.append(os.path.join(project_root, 'src'))"
   ]
  },
  {
   "cell_type": "code",
   "execution_count": 2,
   "metadata": {},
   "outputs": [],
   "source": [
    "import pandas as pd\n",
    "import numpy as np\n",
    "import pickle\n",
    "\n",
    "\n",
    "from metrics import map_score, mrr_score, ndcg_score, rmse_score, average_precision\n",
    "from utils import to_user_movie_matrix, make_binary_matrix, RatingMatrix, train_test_split\n",
    "from models.multi_armed_bandits_manual import EpsilonGreedyBandit, UCBBandit"
   ]
  },
  {
   "cell_type": "code",
   "execution_count": 3,
   "metadata": {},
   "outputs": [],
   "source": [
    "from contextualbandits.online import LinUCB\n",
    "from collections import Counter"
   ]
  },
  {
   "cell_type": "code",
   "execution_count": 4,
   "metadata": {},
   "outputs": [],
   "source": [
    "def save_numpy_object(obj, filename):\n",
    "    \"\"\"\n",
    "    It saves a numpy object as a binary file\n",
    "    \"\"\"\n",
    "    with open(filename, 'wb') as f:\n",
    "        pickle.dump(obj, f)"
   ]
  },
  {
   "cell_type": "code",
   "execution_count": 5,
   "metadata": {},
   "outputs": [],
   "source": [
    "ratings = pd.read_csv('../data/ratings.dat', sep='::', engine='python', names=['UserID', 'MovieID', 'Rating', 'Timestamp'])\n",
    "users = pd.read_csv('../data/users.dat', sep='::', engine='python', names=['UserID', 'Gender', 'Age', 'Occupation', 'Zip-code'])\n",
    "movies = pd.read_csv('../data/movies.dat', sep='::', engine='python', names=['MovieID', 'Title', 'Genres'], encoding='latin1')\n",
    "\n",
    "data = ratings.merge(users, on='UserID').merge(movies, on='MovieID')"
   ]
  },
  {
   "cell_type": "code",
   "execution_count": null,
   "metadata": {},
   "outputs": [],
   "source": []
  },
  {
   "cell_type": "markdown",
   "metadata": {},
   "source": [
    "### Data preprocessing\n",
    "\n",
    "We need to perform some data preprocessing to prepare context for our multi-armed bandits. The steps are: \n",
    "\n",
    "1. Extract the main genre for all films because each film can have sub-genre\n",
    "2. Create dummy variables for all categorical columns "
   ]
  },
  {
   "cell_type": "code",
   "execution_count": 6,
   "metadata": {},
   "outputs": [],
   "source": [
    "data['FirstGenre'] = data['Genres'].apply(lambda x: x.split('|')[0])\n",
    "data = pd.get_dummies(data, columns=['Gender', 'FirstGenre'])"
   ]
  },
  {
   "cell_type": "code",
   "execution_count": 7,
   "metadata": {},
   "outputs": [],
   "source": [
    "context_columns = ['Age', 'Occupation'] + [col for col in data.columns if col.startswith('Gender_') or col.startswith('FirstGenre_')]"
   ]
  },
  {
   "cell_type": "code",
   "execution_count": 8,
   "metadata": {},
   "outputs": [],
   "source": [
    "context = data[context_columns]"
   ]
  },
  {
   "cell_type": "code",
   "execution_count": 9,
   "metadata": {},
   "outputs": [],
   "source": [
    "data['BinaryRating'] = (data['Rating'] >= 4).astype(int)"
   ]
  },
  {
   "cell_type": "code",
   "execution_count": 10,
   "metadata": {},
   "outputs": [],
   "source": [
    "rewards = data['BinaryRating']"
   ]
  },
  {
   "cell_type": "code",
   "execution_count": 11,
   "metadata": {},
   "outputs": [
    {
     "data": {
      "text/html": [
       "<div>\n",
       "<style scoped>\n",
       "    .dataframe tbody tr th:only-of-type {\n",
       "        vertical-align: middle;\n",
       "    }\n",
       "\n",
       "    .dataframe tbody tr th {\n",
       "        vertical-align: top;\n",
       "    }\n",
       "\n",
       "    .dataframe thead th {\n",
       "        text-align: right;\n",
       "    }\n",
       "</style>\n",
       "<table border=\"1\" class=\"dataframe\">\n",
       "  <thead>\n",
       "    <tr style=\"text-align: right;\">\n",
       "      <th></th>\n",
       "      <th>Age</th>\n",
       "      <th>Occupation</th>\n",
       "      <th>Gender_F</th>\n",
       "      <th>Gender_M</th>\n",
       "      <th>FirstGenre_Action</th>\n",
       "      <th>FirstGenre_Adventure</th>\n",
       "      <th>FirstGenre_Animation</th>\n",
       "      <th>FirstGenre_Children's</th>\n",
       "      <th>FirstGenre_Comedy</th>\n",
       "      <th>FirstGenre_Crime</th>\n",
       "      <th>...</th>\n",
       "      <th>FirstGenre_Fantasy</th>\n",
       "      <th>FirstGenre_Film-Noir</th>\n",
       "      <th>FirstGenre_Horror</th>\n",
       "      <th>FirstGenre_Musical</th>\n",
       "      <th>FirstGenre_Mystery</th>\n",
       "      <th>FirstGenre_Romance</th>\n",
       "      <th>FirstGenre_Sci-Fi</th>\n",
       "      <th>FirstGenre_Thriller</th>\n",
       "      <th>FirstGenre_War</th>\n",
       "      <th>FirstGenre_Western</th>\n",
       "    </tr>\n",
       "  </thead>\n",
       "  <tbody>\n",
       "    <tr>\n",
       "      <th>0</th>\n",
       "      <td>1</td>\n",
       "      <td>10</td>\n",
       "      <td>1</td>\n",
       "      <td>0</td>\n",
       "      <td>0</td>\n",
       "      <td>0</td>\n",
       "      <td>0</td>\n",
       "      <td>0</td>\n",
       "      <td>0</td>\n",
       "      <td>0</td>\n",
       "      <td>...</td>\n",
       "      <td>0</td>\n",
       "      <td>0</td>\n",
       "      <td>0</td>\n",
       "      <td>0</td>\n",
       "      <td>0</td>\n",
       "      <td>0</td>\n",
       "      <td>0</td>\n",
       "      <td>0</td>\n",
       "      <td>0</td>\n",
       "      <td>0</td>\n",
       "    </tr>\n",
       "    <tr>\n",
       "      <th>1</th>\n",
       "      <td>56</td>\n",
       "      <td>16</td>\n",
       "      <td>0</td>\n",
       "      <td>1</td>\n",
       "      <td>0</td>\n",
       "      <td>0</td>\n",
       "      <td>0</td>\n",
       "      <td>0</td>\n",
       "      <td>0</td>\n",
       "      <td>0</td>\n",
       "      <td>...</td>\n",
       "      <td>0</td>\n",
       "      <td>0</td>\n",
       "      <td>0</td>\n",
       "      <td>0</td>\n",
       "      <td>0</td>\n",
       "      <td>0</td>\n",
       "      <td>0</td>\n",
       "      <td>0</td>\n",
       "      <td>0</td>\n",
       "      <td>0</td>\n",
       "    </tr>\n",
       "    <tr>\n",
       "      <th>2</th>\n",
       "      <td>25</td>\n",
       "      <td>12</td>\n",
       "      <td>0</td>\n",
       "      <td>1</td>\n",
       "      <td>0</td>\n",
       "      <td>0</td>\n",
       "      <td>0</td>\n",
       "      <td>0</td>\n",
       "      <td>0</td>\n",
       "      <td>0</td>\n",
       "      <td>...</td>\n",
       "      <td>0</td>\n",
       "      <td>0</td>\n",
       "      <td>0</td>\n",
       "      <td>0</td>\n",
       "      <td>0</td>\n",
       "      <td>0</td>\n",
       "      <td>0</td>\n",
       "      <td>0</td>\n",
       "      <td>0</td>\n",
       "      <td>0</td>\n",
       "    </tr>\n",
       "    <tr>\n",
       "      <th>3</th>\n",
       "      <td>25</td>\n",
       "      <td>7</td>\n",
       "      <td>0</td>\n",
       "      <td>1</td>\n",
       "      <td>0</td>\n",
       "      <td>0</td>\n",
       "      <td>0</td>\n",
       "      <td>0</td>\n",
       "      <td>0</td>\n",
       "      <td>0</td>\n",
       "      <td>...</td>\n",
       "      <td>0</td>\n",
       "      <td>0</td>\n",
       "      <td>0</td>\n",
       "      <td>0</td>\n",
       "      <td>0</td>\n",
       "      <td>0</td>\n",
       "      <td>0</td>\n",
       "      <td>0</td>\n",
       "      <td>0</td>\n",
       "      <td>0</td>\n",
       "    </tr>\n",
       "    <tr>\n",
       "      <th>4</th>\n",
       "      <td>50</td>\n",
       "      <td>1</td>\n",
       "      <td>0</td>\n",
       "      <td>1</td>\n",
       "      <td>0</td>\n",
       "      <td>0</td>\n",
       "      <td>0</td>\n",
       "      <td>0</td>\n",
       "      <td>0</td>\n",
       "      <td>0</td>\n",
       "      <td>...</td>\n",
       "      <td>0</td>\n",
       "      <td>0</td>\n",
       "      <td>0</td>\n",
       "      <td>0</td>\n",
       "      <td>0</td>\n",
       "      <td>0</td>\n",
       "      <td>0</td>\n",
       "      <td>0</td>\n",
       "      <td>0</td>\n",
       "      <td>0</td>\n",
       "    </tr>\n",
       "  </tbody>\n",
       "</table>\n",
       "<p>5 rows × 22 columns</p>\n",
       "</div>"
      ],
      "text/plain": [
       "   Age  Occupation  Gender_F  Gender_M  FirstGenre_Action  \\\n",
       "0    1          10         1         0                  0   \n",
       "1   56          16         0         1                  0   \n",
       "2   25          12         0         1                  0   \n",
       "3   25           7         0         1                  0   \n",
       "4   50           1         0         1                  0   \n",
       "\n",
       "   FirstGenre_Adventure  FirstGenre_Animation  FirstGenre_Children's  \\\n",
       "0                     0                     0                      0   \n",
       "1                     0                     0                      0   \n",
       "2                     0                     0                      0   \n",
       "3                     0                     0                      0   \n",
       "4                     0                     0                      0   \n",
       "\n",
       "   FirstGenre_Comedy  FirstGenre_Crime  ...  FirstGenre_Fantasy  \\\n",
       "0                  0                 0  ...                   0   \n",
       "1                  0                 0  ...                   0   \n",
       "2                  0                 0  ...                   0   \n",
       "3                  0                 0  ...                   0   \n",
       "4                  0                 0  ...                   0   \n",
       "\n",
       "   FirstGenre_Film-Noir  FirstGenre_Horror  FirstGenre_Musical  \\\n",
       "0                     0                  0                   0   \n",
       "1                     0                  0                   0   \n",
       "2                     0                  0                   0   \n",
       "3                     0                  0                   0   \n",
       "4                     0                  0                   0   \n",
       "\n",
       "   FirstGenre_Mystery  FirstGenre_Romance  FirstGenre_Sci-Fi  \\\n",
       "0                   0                   0                  0   \n",
       "1                   0                   0                  0   \n",
       "2                   0                   0                  0   \n",
       "3                   0                   0                  0   \n",
       "4                   0                   0                  0   \n",
       "\n",
       "   FirstGenre_Thriller  FirstGenre_War  FirstGenre_Western  \n",
       "0                    0               0                   0  \n",
       "1                    0               0                   0  \n",
       "2                    0               0                   0  \n",
       "3                    0               0                   0  \n",
       "4                    0               0                   0  \n",
       "\n",
       "[5 rows x 22 columns]"
      ]
     },
     "execution_count": 11,
     "metadata": {},
     "output_type": "execute_result"
    }
   ],
   "source": [
    "context.head()"
   ]
  },
  {
   "cell_type": "code",
   "execution_count": 12,
   "metadata": {},
   "outputs": [
    {
     "data": {
      "text/plain": [
       "0    1\n",
       "1    1\n",
       "2    1\n",
       "3    1\n",
       "4    1\n",
       "Name: BinaryRating, dtype: int32"
      ]
     },
     "execution_count": 12,
     "metadata": {},
     "output_type": "execute_result"
    }
   ],
   "source": [
    "rewards.head()"
   ]
  },
  {
   "cell_type": "markdown",
   "metadata": {},
   "source": [
    "### Simple non-contextual bandits test\n",
    "\n",
    "We prepared a simple implementation of non-contextual bandits (Epsilon Greedy and UCBBandit):"
   ]
  },
  {
   "cell_type": "code",
   "execution_count": 13,
   "metadata": {},
   "outputs": [],
   "source": [
    "#train / test split by time \n",
    "train_ratings, test_ratings = train_test_split(ratings, 'Timestamp')\n",
    "\n",
    "#train / test matrix creation\n",
    "train_matrix = to_user_movie_matrix(train_ratings)\n",
    "test_matrix = to_user_movie_matrix(test_ratings) "
   ]
  },
  {
   "cell_type": "code",
   "execution_count": 14,
   "metadata": {},
   "outputs": [],
   "source": [
    "bandit = EpsilonGreedyBandit(rating_matrix=train_matrix, epsilon=0.1)"
   ]
  },
  {
   "cell_type": "code",
   "execution_count": 15,
   "metadata": {},
   "outputs": [],
   "source": [
    "bandit.fit(train_matrix)"
   ]
  },
  {
   "cell_type": "code",
   "execution_count": 16,
   "metadata": {},
   "outputs": [],
   "source": [
    "average_reward = bandit.evaluate(test_matrix)"
   ]
  },
  {
   "cell_type": "code",
   "execution_count": 17,
   "metadata": {},
   "outputs": [
    {
     "name": "stdout",
     "output_type": "stream",
     "text": [
      "Average reward for EpsilonGreedyBandit: 0.00015205291441421615\n"
     ]
    }
   ],
   "source": [
    "print(f'Average reward for EpsilonGreedyBandit: {average_reward}')"
   ]
  },
  {
   "cell_type": "code",
   "execution_count": null,
   "metadata": {},
   "outputs": [],
   "source": []
  },
  {
   "cell_type": "code",
   "execution_count": 18,
   "metadata": {},
   "outputs": [],
   "source": [
    "\n",
    "bandit = UCBBandit(rating_matrix=train_matrix, alpha=1)"
   ]
  },
  {
   "cell_type": "code",
   "execution_count": 19,
   "metadata": {},
   "outputs": [],
   "source": [
    "bandit.fit(train_matrix)"
   ]
  },
  {
   "cell_type": "code",
   "execution_count": 20,
   "metadata": {},
   "outputs": [
    {
     "name": "stdout",
     "output_type": "stream",
     "text": [
      "Average reward for UCBBandit: 1.6005569938338542e-05\n"
     ]
    }
   ],
   "source": [
    "average_reward = bandit.evaluate(test_matrix)\n",
    "print(f'Average reward for UCBBandit: {average_reward}')\n"
   ]
  },
  {
   "cell_type": "markdown",
   "metadata": {},
   "source": [
    "The average reward of both bandits is quite low, so we will stick to the contextual implementation and try to test it.\n",
    "\n",
    "---"
   ]
  },
  {
   "cell_type": "markdown",
   "metadata": {},
   "source": [
    "### Contextual bandit train"
   ]
  },
  {
   "cell_type": "code",
   "execution_count": 21,
   "metadata": {},
   "outputs": [],
   "source": [
    "from sklearn.model_selection import train_test_split"
   ]
  },
  {
   "cell_type": "code",
   "execution_count": 23,
   "metadata": {},
   "outputs": [],
   "source": [
    "X_train, X_test, y_train, y_test, a_train, a_test = train_test_split(context, data['BinaryRating'], data['MovieID'], test_size=0.25, random_state=42)"
   ]
  },
  {
   "cell_type": "code",
   "execution_count": null,
   "metadata": {},
   "outputs": [],
   "source": []
  },
  {
   "cell_type": "code",
   "execution_count": 24,
   "metadata": {},
   "outputs": [],
   "source": [
    "model = LinUCB(nchoices=len(np.unique(data['MovieID'])), alpha=1.0)"
   ]
  },
  {
   "cell_type": "code",
   "execution_count": 25,
   "metadata": {},
   "outputs": [
    {
     "data": {
      "text/plain": [
       "<contextualbandits.online.LinUCB at 0x1f5aa8c54c0>"
      ]
     },
     "execution_count": 25,
     "metadata": {},
     "output_type": "execute_result"
    }
   ],
   "source": [
    "model.fit(X_train.to_numpy(), a_train.to_numpy(), y_train.to_numpy())"
   ]
  },
  {
   "cell_type": "code",
   "execution_count": 26,
   "metadata": {},
   "outputs": [
    {
     "name": "stderr",
     "output_type": "stream",
     "text": [
      "c:\\Users\\Yurii Shynkarov\\Desktop\\bdl_env\\lib\\site-packages\\contextualbandits\\linreg\\__init__.py:592: RuntimeWarning: invalid value encountered in sqrt\n",
      "  pred[:] += alpha * np.sqrt(ci)\n"
     ]
    }
   ],
   "source": [
    "predictions = model.predict(X_test.to_numpy())"
   ]
  },
  {
   "cell_type": "code",
   "execution_count": null,
   "metadata": {},
   "outputs": [],
   "source": [
    "save_numpy_object(predictions, '../artifacts/multi_armed_bandit_predictions.pickle')"
   ]
  },
  {
   "cell_type": "code",
   "execution_count": null,
   "metadata": {},
   "outputs": [],
   "source": []
  },
  {
   "cell_type": "code",
   "execution_count": 69,
   "metadata": {},
   "outputs": [],
   "source": [
    "movie_ids = np.unique(data['MovieID'])\n",
    "movie_id_to_index = {movie_id: idx for idx, movie_id in enumerate(movie_ids)}\n",
    "index_to_movie_id = {idx: movie_id for movie_id, idx in movie_id_to_index.items()}"
   ]
  },
  {
   "cell_type": "code",
   "execution_count": 70,
   "metadata": {},
   "outputs": [],
   "source": [
    "a_train_indices = np.array([movie_id_to_index[movie_id] for movie_id in a_train])"
   ]
  },
  {
   "cell_type": "code",
   "execution_count": 71,
   "metadata": {},
   "outputs": [],
   "source": [
    "predicted_movie_ids = [index_to_movie_id[pred] for pred in predictions]"
   ]
  },
  {
   "cell_type": "code",
   "execution_count": 72,
   "metadata": {},
   "outputs": [],
   "source": [
    "predictions_df = pd.DataFrame({\n",
    "    'UserID': X_test.index.map(lambda idx: data.loc[idx, 'UserID']),\n",
    "    'MovieID': predicted_movie_ids,\n",
    "    'Rating': 1  #predicted ratings are all 1, so we just recommend movies user want to watch without rating forecasting\n",
    "})"
   ]
  },
  {
   "cell_type": "code",
   "execution_count": 74,
   "metadata": {},
   "outputs": [],
   "source": [
    "predictions_df = predictions_df.groupby(['UserID', 'MovieID']).agg({'Rating': 'max'}).reset_index()"
   ]
  },
  {
   "cell_type": "code",
   "execution_count": 75,
   "metadata": {},
   "outputs": [],
   "source": [
    "predictions_rating_matrix = to_user_movie_matrix(predictions_df)"
   ]
  },
  {
   "cell_type": "code",
   "execution_count": null,
   "metadata": {},
   "outputs": [],
   "source": []
  },
  {
   "cell_type": "markdown",
   "metadata": {},
   "source": [
    "### Evaluation"
   ]
  },
  {
   "cell_type": "code",
   "execution_count": 39,
   "metadata": {},
   "outputs": [],
   "source": [
    "#preparing of the test data to be used in otu metrics calculation block\n",
    "\n",
    "y_test = X_test.copy()\n",
    "y_test['BinaryRating'] = y_test.index.map(lambda idx: data.loc[idx, 'BinaryRating'])\n",
    "y_test['UserID'] = y_test.index.map(lambda idx: data.loc[idx, 'UserID'])\n",
    "y_test['MovieID'] = y_test.index.map(lambda idx: data.loc[idx, 'MovieID'])"
   ]
  },
  {
   "cell_type": "code",
   "execution_count": 40,
   "metadata": {},
   "outputs": [],
   "source": [
    "test_ratings = y_test[['UserID', 'MovieID', 'BinaryRating']].rename(columns={'BinaryRating': 'Rating'})"
   ]
  },
  {
   "cell_type": "code",
   "execution_count": 41,
   "metadata": {},
   "outputs": [],
   "source": [
    "rating_matrix = to_user_movie_matrix(test_ratings)"
   ]
  },
  {
   "cell_type": "code",
   "execution_count": null,
   "metadata": {},
   "outputs": [],
   "source": []
  },
  {
   "cell_type": "code",
   "execution_count": 81,
   "metadata": {},
   "outputs": [
    {
     "name": "stdout",
     "output_type": "stream",
     "text": [
      "LinUCB MAP: 0.19589655639717443\n",
      "LinUCB MRR: 0.2297836\n",
      "LinUCB NDCG: 0.16184333990828204\n"
     ]
    }
   ],
   "source": [
    "map_score_value = map_score(predict_matrix, rating_matrix, top=20)\n",
    "mrr_score_value = mrr_score(predict_matrix, rating_matrix, top=20)\n",
    "ndcg_score_value = ndcg_score(predict_matrix, rating_matrix, top=20)\n",
    "\n",
    "print(f'LinUCB MAP: {map_score_value}')\n",
    "print(f'LinUCB MRR: {mrr_score_value}')\n",
    "print(f'LinUCB NDCG: {ndcg_score_value}')"
   ]
  },
  {
   "cell_type": "markdown",
   "metadata": {},
   "source": [
    "A MAP of indicates the mean precision of the algorithm when averaged over all queries. A value of  ~0.195 is poor and suggests that, on average, the precision of the recommended items is about 20%.\n",
    "\n",
    "An MRR of 0.23 reflects low precision telling us that relevant items are, on average, ranked fairly low in the recommendation list (~8-9 place).\n",
    "\n",
    "NDCG evaluates the quality of the ranking by considering the position of relevant items. An NDCG of 0.16 suggests that the overall ranking of relevant items is not effective"
   ]
  },
  {
   "cell_type": "markdown",
   "metadata": {},
   "source": [
    "---\n",
    "\n",
    "We tried to implement a recommender system using multi-armed bandit (MAB) algorithms, specifically focusing on the LinUCB algorithm. The main goal was to create a recommendation system that balances exploration and exploitation to optimize movie recommendations for users.\n",
    "\n",
    "The model's choice was done because of the training speed and its performance compared to naive non-contextual Epsilon Greedy and UCBBandit algorithms. LinUCB algorithm implementation is based on the contextualbandits Python library. Overall approach was chosen for its ability to handle contextual information, which is crucial for personalized recommendations.\n",
    "\n",
    "Despite many experiments conducted, the final metrics are not high and showing results similar to PageRank which works much faster compared to MAB approach. \n"
   ]
  },
  {
   "cell_type": "code",
   "execution_count": null,
   "metadata": {},
   "outputs": [],
   "source": []
  },
  {
   "cell_type": "code",
   "execution_count": null,
   "metadata": {},
   "outputs": [],
   "source": []
  }
 ],
 "metadata": {
  "kernelspec": {
   "display_name": "bdl_env",
   "language": "python",
   "name": "python3"
  },
  "language_info": {
   "codemirror_mode": {
    "name": "ipython",
    "version": 3
   },
   "file_extension": ".py",
   "mimetype": "text/x-python",
   "name": "python",
   "nbconvert_exporter": "python",
   "pygments_lexer": "ipython3",
   "version": "3.9.7"
  }
 },
 "nbformat": 4,
 "nbformat_minor": 2
}
