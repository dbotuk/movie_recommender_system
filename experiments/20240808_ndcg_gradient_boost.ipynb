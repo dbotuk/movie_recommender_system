{
 "cells": [
  {
   "cell_type": "code",
   "execution_count": 1,
   "id": "initial_id",
   "metadata": {
    "collapsed": true,
    "ExecuteTime": {
     "end_time": "2024-08-11T19:03:59.525365Z",
     "start_time": "2024-08-11T19:03:58.614717Z"
    }
   },
   "outputs": [],
   "source": [
    "import pandas as pd\n",
    "from sklearn.metrics import ndcg_score\n",
    "from sklearn.preprocessing import OneHotEncoder\n",
    "from sklearn.compose import ColumnTransformer\n",
    "from src.utils import train_test_split\n",
    "from src.models.ndcg_boost import NDCGLossGradientBoostingRegressor"
   ]
  },
  {
   "cell_type": "markdown",
   "source": [
    "Let's load the datasets with users info, movies info and users' ratings for movies.\n",
    "\n",
    "Then we split it to training/test subsets by the timestamp."
   ],
   "metadata": {
    "collapsed": false
   },
   "id": "ef29c99fb4ed1e55"
  },
  {
   "cell_type": "code",
   "outputs": [],
   "source": [
    "users = pd.read_table(\"../data/users.dat\", sep=\"::\", names=['UserID', 'Gender', 'Age', 'Occupation', 'Zip-code'], engine='python')\n",
    "\n",
    "movies = pd.read_table(\"../data/movies.dat\", sep=\"::\", names=['MovieID', 'Title', 'Genres'], engine='python', encoding='latin1')\n",
    "\n",
    "ratings = pd.read_table(\"../data/ratings.dat\", sep=\"::\", names=['UserID', 'MovieID', 'Rating', 'Timestamp'], engine='python')\n",
    "ratings['Timestamp'] = pd.to_datetime(ratings['Timestamp'], unit='s')\n",
    "\n",
    "data_df = pd.merge(ratings, users, on='UserID')\n",
    "data_df = pd.merge(data_df, movies, on='MovieID')\n",
    "\n",
    "train_data, test_data = train_test_split(data_df, 'Timestamp')\n",
    "\n",
    "X_train = train_data[['Gender', 'Age', 'Occupation', 'Genres']]\n",
    "X_test = test_data[['Gender', 'Age', 'Occupation', 'Genres']]\n",
    "y_train = train_data['Rating']\n",
    "y_test = test_data['Rating']"
   ],
   "metadata": {
    "collapsed": false,
    "ExecuteTime": {
     "end_time": "2024-08-11T19:04:02.175367Z",
     "start_time": "2024-08-11T19:03:59.526538Z"
    }
   },
   "id": "93f0b0a360ee37ac",
   "execution_count": 2
  },
  {
   "cell_type": "markdown",
   "source": [
    "Then let's do some data preparation."
   ],
   "metadata": {
    "collapsed": false
   },
   "id": "b13341cced550f43"
  },
  {
   "cell_type": "code",
   "outputs": [],
   "source": [
    "categorical_features = ['Gender', 'Occupation', 'Genres']\n",
    "preprocessor = ColumnTransformer(\n",
    "    transformers=[\n",
    "        ('cat', OneHotEncoder(handle_unknown='ignore'), categorical_features)\n",
    "    ], remainder='passthrough')\n",
    "\n",
    "X_train_transformed = preprocessor.fit_transform(X_train)\n",
    "X_test_transformed = preprocessor.transform(X_test)"
   ],
   "metadata": {
    "collapsed": false,
    "ExecuteTime": {
     "end_time": "2024-08-11T19:04:02.679067Z",
     "start_time": "2024-08-11T19:04:02.176094Z"
    }
   },
   "id": "cdf566a5ed04fa22",
   "execution_count": 3
  },
  {
   "cell_type": "markdown",
   "source": [
    "Now, we are going to train our learning-to-rate gradient boost model with NDCG loss function, which predicts ratings based on the movie features."
   ],
   "metadata": {
    "collapsed": false
   },
   "id": "a9d05da31eda5c4f"
  },
  {
   "cell_type": "code",
   "outputs": [],
   "source": [
    "model = NDCGLossGradientBoostingRegressor(learning_rate=0.05, n_estimators=100, max_depth=3)\n",
    "model.fit(X_train_transformed, y_train)\n",
    "\n",
    "y_pred = model.predict(X_test_transformed)"
   ],
   "metadata": {
    "collapsed": false,
    "ExecuteTime": {
     "end_time": "2024-08-11T19:04:23.117524Z",
     "start_time": "2024-08-11T19:04:02.680064Z"
    }
   },
   "id": "33c4ba0c27eefe4d",
   "execution_count": 4
  },
  {
   "cell_type": "markdown",
   "source": [
    "As we boost NDCG metric, let's check this score provided by our model."
   ],
   "metadata": {
    "collapsed": false
   },
   "id": "5eb3c306d268f978"
  },
  {
   "cell_type": "code",
   "outputs": [
    {
     "name": "stdout",
     "output_type": "stream",
     "text": [
      "NDCG Score: 0.8320000000000001\n"
     ]
    }
   ],
   "source": [
    "ndcg = ndcg_score([y_test], [y_pred], k=10)\n",
    "\n",
    "print(f'NDCG Score: {ndcg}')"
   ],
   "metadata": {
    "collapsed": false,
    "ExecuteTime": {
     "end_time": "2024-08-11T19:04:23.174291Z",
     "start_time": "2024-08-11T19:04:23.120379Z"
    }
   },
   "id": "f5e06d16f553806d",
   "execution_count": 5
  },
  {
   "cell_type": "markdown",
   "source": [
    "NDCG measures the quality of the recommendations by considering the position of the relevant items in the list, with higher-ranked items contributing more to the score.\n",
    "\n",
    "So, here we get the highest NDCG score within all the previous models, even higher than provided one by xgboost."
   ],
   "metadata": {
    "collapsed": false
   },
   "id": "9adbd526805dff80"
  }
 ],
 "metadata": {
  "kernelspec": {
   "display_name": "Python 3",
   "language": "python",
   "name": "python3"
  },
  "language_info": {
   "codemirror_mode": {
    "name": "ipython",
    "version": 2
   },
   "file_extension": ".py",
   "mimetype": "text/x-python",
   "name": "python",
   "nbconvert_exporter": "python",
   "pygments_lexer": "ipython2",
   "version": "2.7.6"
  }
 },
 "nbformat": 4,
 "nbformat_minor": 5
}
