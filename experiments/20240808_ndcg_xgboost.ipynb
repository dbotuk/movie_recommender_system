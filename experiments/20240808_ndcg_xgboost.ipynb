{
 "cells": [
  {
   "cell_type": "code",
   "execution_count": 1,
   "id": "initial_id",
   "metadata": {
    "collapsed": true,
    "ExecuteTime": {
     "end_time": "2024-08-11T19:05:52.806115Z",
     "start_time": "2024-08-11T19:05:51.815543Z"
    }
   },
   "outputs": [],
   "source": [
    "import pandas as pd\n",
    "from sklearn.metrics import ndcg_score\n",
    "from sklearn.preprocessing import OneHotEncoder\n",
    "from sklearn.compose import ColumnTransformer\n",
    "from src.utils import train_test_split\n",
    "from xgboost import XGBRanker"
   ]
  },
  {
   "cell_type": "markdown",
   "source": [
    "Let's load the datasets with users info, movies info and users' ratings for movies.\n",
    "\n",
    "Then we split it to training/test subsets by the timestamp."
   ],
   "metadata": {
    "collapsed": false
   },
   "id": "a7c823ce98fb89fb"
  },
  {
   "cell_type": "code",
   "outputs": [],
   "source": [
    "users = pd.read_table(\"../data/users.dat\", sep=\"::\", names=['UserID', 'Gender', 'Age', 'Occupation', 'Zip-code'], engine='python')\n",
    "\n",
    "movies = pd.read_table(\"../data/movies.dat\", sep=\"::\", names=['MovieID', 'Title', 'Genres'], engine='python', encoding='latin1')\n",
    "\n",
    "ratings = pd.read_table(\"../data/ratings.dat\", sep=\"::\", names=['UserID', 'MovieID', 'Rating', 'Timestamp'], engine='python')\n",
    "ratings['Timestamp'] = pd.to_datetime(ratings['Timestamp'], unit='s')\n",
    "\n",
    "data_df = pd.merge(ratings, users, on='UserID')\n",
    "data_df = pd.merge(data_df, movies, on='MovieID')\n",
    "\n",
    "train_data, test_data = train_test_split(data_df, 'Timestamp')\n",
    "\n",
    "X_train = train_data[['UserID', 'Gender', 'Age', 'Occupation', 'Genres', 'MovieID']]\n",
    "X_test = test_data[['UserID', 'Gender', 'Age', 'Occupation', 'Genres', 'MovieID']]\n",
    "y_train = train_data['Rating']\n",
    "y_test = test_data['Rating']"
   ],
   "metadata": {
    "collapsed": false,
    "ExecuteTime": {
     "end_time": "2024-08-11T19:05:55.532935Z",
     "start_time": "2024-08-11T19:05:52.807263Z"
    }
   },
   "id": "eb7d1e600c61f52b",
   "execution_count": 2
  },
  {
   "cell_type": "markdown",
   "source": [
    "Then let's do some data preparation."
   ],
   "metadata": {
    "collapsed": false
   },
   "id": "28a0c343eb134945"
  },
  {
   "cell_type": "code",
   "outputs": [],
   "source": [
    "categorical_features = ['Gender', 'Occupation', 'Genres']\n",
    "preprocessor = ColumnTransformer(\n",
    "    transformers=[\n",
    "        ('cat', OneHotEncoder(handle_unknown='ignore'), categorical_features)\n",
    "    ], remainder='passthrough')\n",
    "\n",
    "X_train_transformed = preprocessor.fit_transform(X_train)\n",
    "X_test_transformed = preprocessor.transform(X_test)\n",
    "\n",
    "group_train = X_train.groupby('UserID').size().to_numpy()\n",
    "group_test = X_test.groupby('UserID').size().to_numpy()"
   ],
   "metadata": {
    "collapsed": false,
    "ExecuteTime": {
     "end_time": "2024-08-11T19:05:56.050412Z",
     "start_time": "2024-08-11T19:05:55.533956Z"
    }
   },
   "id": "d9a948e8ccc08bf7",
   "execution_count": 3
  },
  {
   "cell_type": "markdown",
   "source": [
    "Now, we are going to train our learning-to-rate xgboost model with NDCG loss function, which predicts ratings based on the movie features."
   ],
   "metadata": {
    "collapsed": false
   },
   "id": "759ca68df45568fa"
  },
  {
   "cell_type": "code",
   "outputs": [],
   "source": [
    "ranker = XGBRanker(\n",
    "    objective='rank:ndcg',\n",
    "    booster='gbtree',\n",
    "    learning_rate=0.1,\n",
    "    max_depth=6,\n",
    "    n_estimators=100,\n",
    "    subsample=0.8\n",
    ")\n",
    "\n",
    "ranker.fit(X_train_transformed, y_train, group=group_train)\n",
    "\n",
    "y_pred = ranker.predict(X_test_transformed)"
   ],
   "metadata": {
    "collapsed": false,
    "ExecuteTime": {
     "end_time": "2024-08-11T19:06:04.006635Z",
     "start_time": "2024-08-11T19:05:56.051189Z"
    }
   },
   "id": "6b36984e133b2e47",
   "execution_count": 4
  },
  {
   "cell_type": "markdown",
   "source": [
    "As we boost NDCG metric, let's check this score provided by our model."
   ],
   "metadata": {
    "collapsed": false
   },
   "id": "bbda0a1f19d9e185"
  },
  {
   "cell_type": "code",
   "outputs": [
    {
     "name": "stdout",
     "output_type": "stream",
     "text": [
      "NDCG Score: 0.7196519721439243\n"
     ]
    }
   ],
   "source": [
    "ndcg = ndcg_score([y_test], [y_pred], k=10)\n",
    "\n",
    "print(f'NDCG Score: {ndcg}')"
   ],
   "metadata": {
    "collapsed": false,
    "ExecuteTime": {
     "end_time": "2024-08-11T19:06:04.070850Z",
     "start_time": "2024-08-11T19:06:04.008763Z"
    }
   },
   "id": "f5e06d16f553806d",
   "execution_count": 5
  },
  {
   "cell_type": "markdown",
   "source": [
    "NDCG measures the quality of the recommendations by considering the position of the relevant items in the list, with higher-ranked items contributing more to the score.\n",
    "\n",
    "So, here we get quite high NDCG score, higher than all previous ones."
   ],
   "metadata": {
    "collapsed": false
   },
   "id": "9c1516e3fcd2719a"
  }
 ],
 "metadata": {
  "kernelspec": {
   "display_name": "Python 3",
   "language": "python",
   "name": "python3"
  },
  "language_info": {
   "codemirror_mode": {
    "name": "ipython",
    "version": 2
   },
   "file_extension": ".py",
   "mimetype": "text/x-python",
   "name": "python",
   "nbconvert_exporter": "python",
   "pygments_lexer": "ipython2",
   "version": "2.7.6"
  }
 },
 "nbformat": 4,
 "nbformat_minor": 5
}
