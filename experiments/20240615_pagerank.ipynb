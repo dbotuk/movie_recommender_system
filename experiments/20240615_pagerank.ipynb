{
 "cells": [
  {
   "cell_type": "code",
   "execution_count": 1,
   "metadata": {},
   "outputs": [],
   "source": [
    "import sys\n",
    "import os\n",
    "\n",
    "current_dir = os.getcwd()\n",
    "project_root = os.path.abspath(os.path.join(current_dir, '..'))\n",
    "sys.path.append(os.path.join(project_root, 'src'))"
   ]
  },
  {
   "cell_type": "code",
   "execution_count": 2,
   "metadata": {},
   "outputs": [],
   "source": [
    "import pandas as pd\n",
    "import numpy as np\n",
    "import networkx as nx\n",
    "\n",
    "\n",
    "from metrics import map_score, mrr_score, ndcg_score, rmse_score, average_precision\n",
    "from utils import train_test_split, to_user_movie_matrix, make_binary_matrix, RatingMatrix\n",
    "from models.pagerank import create_transition_matrix, personalized_page_rank"
   ]
  },
  {
   "cell_type": "code",
   "execution_count": 3,
   "metadata": {},
   "outputs": [],
   "source": [
    "ratings = pd.read_csv('../data/ratings.dat', sep='::', engine='python', names=['UserID', 'MovieID', 'Rating', 'Timestamp'])\n",
    "users = pd.read_csv('../data/users.dat', sep='::', engine='python', names=['UserID', 'Gender', 'Age', 'Occupation', 'Zip-code'])\n",
    "movies = pd.read_csv('../data/movies.dat', sep='::', engine='python', names=['MovieID', 'Title', 'Genres'], encoding='latin1')\n",
    "\n",
    "data = ratings.merge(users, on='UserID').merge(movies, on='MovieID')"
   ]
  },
  {
   "cell_type": "code",
   "execution_count": 4,
   "metadata": {},
   "outputs": [],
   "source": [
    "#train / test split by time \n",
    "train_ratings, test_ratings = train_test_split(ratings, 'Timestamp')\n",
    "\n",
    "#train / test matrix creation\n",
    "user_movie_train = to_user_movie_matrix(train_ratings)\n",
    "user_movie_test = to_user_movie_matrix(test_ratings) "
   ]
  },
  {
   "cell_type": "code",
   "execution_count": null,
   "metadata": {},
   "outputs": [],
   "source": []
  },
  {
   "cell_type": "markdown",
   "metadata": {},
   "source": [
    "### Graph-Based analysis with custome implementation of Peronalized PageRank: \n",
    "\n",
    "Represent some part of the dataset as a connected graph and set up meaningful experiment with the PageRank algorithm."
   ]
  },
  {
   "cell_type": "code",
   "execution_count": 5,
   "metadata": {},
   "outputs": [],
   "source": [
    "#let's filter all movies from the test dataset not presented in the train because we cannot evaluate such cases\n",
    "\n",
    "user_movie_test.matrix = user_movie_test.matrix.loc[user_movie_test.matrix.index.isin(user_movie_train.matrix.index), :].copy()"
   ]
  },
  {
   "cell_type": "code",
   "execution_count": 6,
   "metadata": {},
   "outputs": [],
   "source": [
    "#let's also filter all users from the test dataset not presented in the train\n",
    "\n",
    "user_movie_test.matrix = user_movie_test.matrix.drop(columns=user_movie_test.matrix.columns[~user_movie_test.matrix.columns.isin(user_movie_train.matrix.columns)]).copy()"
   ]
  },
  {
   "cell_type": "code",
   "execution_count": 7,
   "metadata": {},
   "outputs": [],
   "source": [
    "#let's compute transition matrix needed for Page Rank \n",
    "train_matrix = user_movie_train.matrix.fillna(0)"
   ]
  },
  {
   "cell_type": "code",
   "execution_count": 8,
   "metadata": {},
   "outputs": [],
   "source": [
    "#create custome weights to implement bias towards 'better' films\n",
    "\n",
    "custom_weights = {\n",
    "    5.0: 100,\n",
    "    4.0: 50,\n",
    "    3.0: 1,\n",
    "    2.0: 0,\n",
    "    1.0: 0,\n",
    "    0.0: 0\n",
    "}"
   ]
  },
  {
   "cell_type": "code",
   "execution_count": 9,
   "metadata": {},
   "outputs": [],
   "source": [
    "train_matrix = train_matrix.replace(custom_weights)"
   ]
  },
  {
   "cell_type": "code",
   "execution_count": 10,
   "metadata": {},
   "outputs": [],
   "source": [
    "transition_matrix = create_transition_matrix(train_matrix)"
   ]
  },
  {
   "cell_type": "code",
   "execution_count": 11,
   "metadata": {},
   "outputs": [],
   "source": [
    "num_users = user_movie_train.matrix.shape[1]\n",
    "num_movies = user_movie_train.matrix.shape[0]"
   ]
  },
  {
   "cell_type": "code",
   "execution_count": 12,
   "metadata": {},
   "outputs": [],
   "source": [
    "#this will be a draft of our prediction\n",
    "y_pred = user_movie_test.matrix[user_movie_test.matrix.columns[0:30]].copy() #user_movie_test.matrix.copy()"
   ]
  },
  {
   "cell_type": "code",
   "execution_count": 13,
   "metadata": {},
   "outputs": [],
   "source": [
    "indeces_in_train = [user_movie_train.matrix.columns.to_list().index(user) if user in user_movie_train.matrix.columns.to_list() else -1 for user in y_pred.columns]"
   ]
  },
  {
   "cell_type": "code",
   "execution_count": 15,
   "metadata": {},
   "outputs": [],
   "source": [
    "for user, id in zip(y_pred.columns, indeces_in_train):\n",
    "    \n",
    "    #personalization vector: will be used in the Page Rank to create a bias for a specific user \n",
    "    personalization_vector = np.zeros(transition_matrix.shape[0])\n",
    "    personalization_vector[id] = 1 \n",
    "    # highly_rated_movies = train_ratings[(train_ratings['UserID'] == user) & (train_ratings['Rating'] >= 4)]['MovieID']\n",
    "    \n",
    "    # for movie_id in highly_rated_movies:\n",
    "    #     movie_index = num_users + train_matrix.index.get_loc(movie_id)\n",
    "    #     personalization_vector[movie_index] = 1\n",
    "\n",
    "    # #normalization\n",
    "    # personalization_vector /= personalization_vector.sum()\n",
    "\n",
    "    #compute Personalized Page Rank scores\n",
    "    ppr_vector = personalized_page_rank(transition_matrix, personalization_vector, alpha = 0.85)\n",
    "\n",
    "    movie_scores = ppr_vector[num_users:]\n",
    "\n",
    "    movie_recommendations = pd.DataFrame({\n",
    "    'PPR_Score': movie_scores\n",
    "    })\n",
    "\n",
    "    movie_recommendations = movie_recommendations.set_index(user_movie_train.matrix.index)\n",
    "    \n",
    "    for ind in y_pred.index:\n",
    "        y_pred.loc[ind, user] = movie_recommendations.loc[ind, ['PPR_Score']].values[0]"
   ]
  },
  {
   "cell_type": "code",
   "execution_count": 26,
   "metadata": {},
   "outputs": [],
   "source": [
    "y_pred.to_csv('../artifacts/pagerank_results_20249616_1.csv')"
   ]
  },
  {
   "cell_type": "code",
   "execution_count": 16,
   "metadata": {},
   "outputs": [],
   "source": [
    "y_pred = RatingMatrix(y_pred)"
   ]
  },
  {
   "cell_type": "code",
   "execution_count": 17,
   "metadata": {},
   "outputs": [
    {
     "name": "stdout",
     "output_type": "stream",
     "text": [
      "PageRank MAP: 0.1769805265726722\n",
      "PageRank MRR: 0.22\n",
      "PageRank NDCG: 0.18374997127433737\n"
     ]
    }
   ],
   "source": [
    "map_score_value = map_score(RatingMatrix(user_movie_test.get_rating_matrix()[y_pred.get_users()]), y_pred, top=30)\n",
    "mrr_score_value = mrr_score(RatingMatrix(user_movie_test.get_rating_matrix()[y_pred.get_users()]), y_pred, top=30)\n",
    "ndcg_score_value = ndcg_score(RatingMatrix(user_movie_test.get_rating_matrix()[y_pred.get_users()]), y_pred, top=30)\n",
    "\n",
    "print(f'PageRank MAP: {map_score_value}')\n",
    "print(f'PageRank MRR: {mrr_score_value}')\n",
    "print(f'PageRank NDCG: {ndcg_score_value}')"
   ]
  },
  {
   "cell_type": "markdown",
   "metadata": {},
   "source": [
    "A MAP of indicates the mean precision of the algorithm when averaged over all queries. A value of  ~0.18 is poor and suggests that, on average, the precision of the recommended items is about 18%.\n",
    "\n",
    "An MRR of 0.22 reflects low precision telling us that relevant items are, on average, ranked fairly low in the recommendation list (~8-9 place).\n",
    "\n",
    "NDCG evaluates the quality of the ranking by considering the position of relevant items. An NDCG of 0.18 suggests that the overall ranking of relevant items is not effective"
   ]
  },
  {
   "cell_type": "markdown",
   "metadata": {},
   "source": [
    "### Networkx implementation to check our results\n",
    "\n",
    "To check our Personalizaed PageRank implementation, we will compare the result with networkx "
   ]
  },
  {
   "cell_type": "code",
   "execution_count": 18,
   "metadata": {},
   "outputs": [],
   "source": [
    "import networkx as nx"
   ]
  },
  {
   "cell_type": "code",
   "execution_count": 19,
   "metadata": {},
   "outputs": [],
   "source": [
    "G = nx.Graph()\n",
    "\n",
    "for user, movie, rating in zip(train_ratings['UserID'], train_ratings['MovieID'], train_ratings['Rating']):\n",
    "    G.add_edge(f'user_{user}', f'movie_{movie}', weight=rating)  #G.add_edge(f'{user}', f'{movie}', weight=rating)"
   ]
  },
  {
   "cell_type": "code",
   "execution_count": null,
   "metadata": {},
   "outputs": [],
   "source": []
  },
  {
   "cell_type": "code",
   "execution_count": 20,
   "metadata": {},
   "outputs": [],
   "source": [
    "#this will be a draft of our prediction\n",
    "y_pred = user_movie_test.matrix[user_movie_test.matrix.columns[0:30]].copy() #user_movie_test.matrix.copy()"
   ]
  },
  {
   "cell_type": "code",
   "execution_count": 21,
   "metadata": {},
   "outputs": [],
   "source": [
    "indeces_in_train = [user_movie_train.matrix.columns.to_list().index(user) if user in user_movie_train.matrix.columns.to_list() else -1 for user in y_pred.columns]"
   ]
  },
  {
   "cell_type": "code",
   "execution_count": 22,
   "metadata": {},
   "outputs": [],
   "source": [
    "for user, id in zip(y_pred.columns[:25], indeces_in_train):\n",
    "    \n",
    "    #personalization vector: will be used in the Page Rank to create a bias for a specific user \n",
    "    personalization = {node: 1 if node == f'user_{user}' else 0 for node in G.nodes()}\n",
    "    \n",
    "    #compute Personalized Page Rank scores\n",
    "    pagerank_scores = nx.pagerank(G, personalization=personalization)\n",
    "\n",
    "    recommended_movies = sorted([(node, score) for node, score in pagerank_scores.items() if node.startswith('movie_')],\n",
    "                                key=lambda x: x[1], reverse=True)\n",
    "\n",
    "\n",
    "    movie_recommendations = pd.DataFrame(recommended_movies, columns=['MovieID', 'PPR_Score'])\n",
    "    movie_recommendations['MovieID'] = movie_recommendations['MovieID'].str.replace('movie_', '')\n",
    "    movie_recommendations = movie_recommendations.set_index(movie_recommendations['MovieID'])\n",
    "\n",
    "\n",
    "    for ind in y_pred.index:\n",
    "        y_pred.loc[ind, user] = movie_recommendations.loc[str(ind), ['PPR_Score']].values[0]"
   ]
  },
  {
   "cell_type": "code",
   "execution_count": 23,
   "metadata": {},
   "outputs": [],
   "source": [
    "y_pred = RatingMatrix(y_pred)"
   ]
  },
  {
   "cell_type": "code",
   "execution_count": 24,
   "metadata": {},
   "outputs": [
    {
     "name": "stdout",
     "output_type": "stream",
     "text": [
      "PageRank MAP: 0.1743260222284341\n",
      "PageRank MRR: 0.21583333333333332\n",
      "PageRank NDCG: 0.18165560677695508\n"
     ]
    }
   ],
   "source": [
    "map_score_value = map_score(RatingMatrix(user_movie_test.get_rating_matrix()[y_pred.get_users()]), y_pred, top=30)\n",
    "mrr_score_value = mrr_score(RatingMatrix(user_movie_test.get_rating_matrix()[y_pred.get_users()]), y_pred, top=30)\n",
    "ndcg_score_value = ndcg_score(RatingMatrix(user_movie_test.get_rating_matrix()[y_pred.get_users()]), y_pred, top=30)\n",
    "\n",
    "print(f'PageRank MAP: {map_score_value}')\n",
    "print(f'PageRank MRR: {mrr_score_value}')\n",
    "print(f'PageRank NDCG: {ndcg_score_value}')"
   ]
  },
  {
   "cell_type": "markdown",
   "metadata": {},
   "source": [
    "We can see that the results are similar with ours. So, we can conclude that our implementation doesn't have technical mistakes. \n",
    "Overall results are quite bad in terms of recommendation quality. This suggests that PageRank approach to the problem is not suitable. However, we see some steps can be taken to improve this approach: \n",
    "\n",
    "* Personalization vector enhancement: we can improve the initialization of the personalization vector by considering not only the user's id but also incorporating user preferable films into the vector. \n",
    "* Incorporate additional features to the adjacency matrix: for example, we can try to add films similarities, movie genres or other attributes describing content. **However,** this also inflate our adjacency matrix and significantly increase time needed to compute recommendations\n",
    "* Apply regularization techniques: we can try to create better normalization mechanism for our transition matrix to handle sparsity in the rating matrix, which can help in better capturing user preferences (in theory). \n",
    "\n",
    "But, the ultimate conclusion is that PageRank is not suitable for this problem as a standalone solution. This is because PageRank primarily considers the link structure (i.e., the user-movie interactions) without understanding the content or features of the movies or users. Our dataset contains information about movies (genres) and users (demographics, occupation) which are not leveraged by the algorithm.\n",
    "\n",
    "Another problem is that the dataset is sparse, meaning most users have rated only a small subset of movies (this fact was fixed during the exploratory data analysis). PageRank relies on the link structure, and sparse data can lead to a poor representation of user preferences and weak connections in the bipartite graph.\n",
    "\n",
    "The last but not the least problem is that PageRank tends to favor nodes with more connections (by its design), which in the context of movies can lead to popular movies being recommended repeatedly, even if they are not relevant to a specific user's preferences."
   ]
  },
  {
   "cell_type": "markdown",
   "metadata": {},
   "source": []
  }
 ],
 "metadata": {
  "kernelspec": {
   "display_name": "bdl_env",
   "language": "python",
   "name": "python3"
  },
  "language_info": {
   "codemirror_mode": {
    "name": "ipython",
    "version": 3
   },
   "file_extension": ".py",
   "mimetype": "text/x-python",
   "name": "python",
   "nbconvert_exporter": "python",
   "pygments_lexer": "ipython3",
   "version": "3.9.7"
  }
 },
 "nbformat": 4,
 "nbformat_minor": 2
}
