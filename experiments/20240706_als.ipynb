{
 "cells": [
  {
   "cell_type": "code",
   "execution_count": 1,
   "id": "initial_id",
   "metadata": {
    "collapsed": true,
    "ExecuteTime": {
     "end_time": "2024-07-07T20:50:08.306188Z",
     "start_time": "2024-07-07T20:50:07.746988Z"
    }
   },
   "outputs": [],
   "source": [
    "import pandas as pd\n",
    "\n",
    "from src.metrics import map_score, mrr_score, ndcg_score, rmse_score\n",
    "from src.models.alternating_least_squares import ALSRecommender\n",
    "from src.utils import train_test_split, to_user_movie_matrix, make_binary_matrix, RatingMatrix"
   ]
  },
  {
   "cell_type": "markdown",
   "source": [
    "Let's load the datasets with users info, movies info and users' ratings for movies.\n",
    "\n",
    "Then we split it to training/test subsets by the timestamp."
   ],
   "metadata": {
    "collapsed": false
   },
   "id": "cdde08a0225832f8"
  },
  {
   "cell_type": "code",
   "outputs": [],
   "source": [
    "users = pd.read_table(\"../data/users.dat\", sep=\"::\", names=['UserID', 'Gender', 'Age', 'Occupation', 'Zip-code'], engine='python')\n",
    "\n",
    "movies = pd.read_table(\"../data/movies.dat\", sep=\"::\", names=['MovieID', 'Title', 'Genres'], engine='python', encoding='latin1')\n",
    "\n",
    "ratings = pd.read_table(\"../data/ratings.dat\", sep=\"::\", names=['UserID', 'MovieID', 'Rating', 'Timestamp'], engine='python')\n",
    "ratings['Timestamp'] = pd.to_datetime(ratings['Timestamp'], unit='s')\n",
    "\n",
    "ratings = ratings[ratings['MovieID'].isin(movies['MovieID'])]\n",
    "\n",
    "train_ratings, test_ratings = train_test_split(ratings, 'Timestamp')\n",
    "user_movie_train = to_user_movie_matrix(train_ratings)\n",
    "user_movie_test = to_user_movie_matrix(test_ratings)"
   ],
   "metadata": {
    "collapsed": false,
    "ExecuteTime": {
     "end_time": "2024-07-07T20:50:13.228535Z",
     "start_time": "2024-07-07T20:50:08.309376Z"
    }
   },
   "id": "21f85a481665f20a",
   "execution_count": 2
  },
  {
   "cell_type": "markdown",
   "source": [
    "Now, we are going to train our ALS recommender model. It depends on two parameters factor and alpha, so we will do the cross validation to find optimal values based on 4 metrics:\n",
    "* mean average precision (MAP)\n",
    "* mean reciprocal rank (MRR)\n",
    "* normalized discounted cumulative gain (NDCG)\n",
    "* root mean squared error (RMSE)"
   ],
   "metadata": {
    "collapsed": false
   },
   "id": "7c1fcaeb26921129"
  },
  {
   "cell_type": "code",
   "outputs": [],
   "source": [
    "import numpy as np\n",
    "from tqdm import tqdm\n",
    "\n",
    "factors = [1,2,4,8]\n",
    "alphas = np.linspace(1e-12, 0.05, 20)"
   ],
   "metadata": {
    "collapsed": false,
    "ExecuteTime": {
     "end_time": "2024-07-07T20:50:13.261344Z",
     "start_time": "2024-07-07T20:50:13.245990Z"
    }
   },
   "id": "913cdb687e727f8b",
   "execution_count": 3
  },
  {
   "cell_type": "code",
   "outputs": [
    {
     "name": "stderr",
     "output_type": "stream",
     "text": [
      "  0%|          | 0/4 [00:00<?, ?it/s]\n",
      "  0%|          | 0/20 [00:00<?, ?it/s]\u001B[A\n",
      "  5%|▌         | 1/20 [00:03<01:08,  3.61s/it]\u001B[A\n",
      " 10%|█         | 2/20 [00:06<01:02,  3.47s/it]\u001B[A\n",
      " 15%|█▌        | 3/20 [00:09<00:51,  3.04s/it]\u001B[A\n",
      " 20%|██        | 4/20 [00:12<00:46,  2.91s/it]\u001B[A\n",
      " 25%|██▌       | 5/20 [00:15<00:45,  3.02s/it]\u001B[A\n",
      " 30%|███       | 6/20 [00:19<00:45,  3.23s/it]\u001B[A\n",
      " 35%|███▌      | 7/20 [00:21<00:39,  3.07s/it]\u001B[A\n",
      " 40%|████      | 8/20 [00:24<00:36,  3.02s/it]\u001B[A\n",
      " 45%|████▌     | 9/20 [00:27<00:32,  2.93s/it]\u001B[A\n",
      " 50%|█████     | 10/20 [00:30<00:28,  2.85s/it]\u001B[A\n",
      " 55%|█████▌    | 11/20 [00:33<00:25,  2.87s/it]\u001B[A\n",
      " 60%|██████    | 12/20 [00:35<00:21,  2.73s/it]\u001B[A\n",
      " 65%|██████▌   | 13/20 [00:38<00:19,  2.74s/it]\u001B[A\n",
      " 70%|███████   | 14/20 [00:41<00:16,  2.75s/it]\u001B[A\n",
      " 75%|███████▌  | 15/20 [00:43<00:13,  2.76s/it]\u001B[A\n",
      " 80%|████████  | 16/20 [00:47<00:11,  2.90s/it]\u001B[A\n",
      " 85%|████████▌ | 17/20 [00:50<00:09,  3.10s/it]\u001B[A\n",
      " 90%|█████████ | 18/20 [00:54<00:06,  3.21s/it]\u001B[A\n",
      " 95%|█████████▌| 19/20 [00:56<00:03,  3.10s/it]\u001B[A\n",
      "100%|██████████| 20/20 [01:00<00:00,  3.02s/it]\u001B[A\n",
      " 25%|██▌       | 1/4 [01:00<03:01, 60.36s/it]\n",
      "  0%|          | 0/20 [00:00<?, ?it/s]\u001B[A\n",
      "  5%|▌         | 1/20 [00:10<03:18, 10.44s/it]\u001B[A\n",
      " 10%|█         | 2/20 [00:22<03:26, 11.46s/it]\u001B[A\n",
      " 15%|█▌        | 3/20 [00:34<03:21, 11.86s/it]\u001B[A\n",
      " 20%|██        | 4/20 [00:53<03:50, 14.40s/it]\u001B[A\n",
      " 25%|██▌       | 5/20 [01:05<03:22, 13.53s/it]\u001B[A\n",
      " 30%|███       | 6/20 [01:22<03:29, 14.94s/it]\u001B[A\n",
      " 35%|███▌      | 7/20 [01:33<02:53, 13.36s/it]\u001B[A\n",
      " 40%|████      | 8/20 [01:47<02:44, 13.72s/it]\u001B[A\n",
      " 45%|████▌     | 9/20 [02:01<02:30, 13.71s/it]\u001B[A\n",
      " 50%|█████     | 10/20 [02:08<01:57, 11.72s/it]\u001B[A\n",
      " 55%|█████▌    | 11/20 [02:27<02:06, 14.05s/it]\u001B[A\n",
      " 60%|██████    | 12/20 [02:39<01:46, 13.27s/it]\u001B[A\n",
      " 65%|██████▌   | 13/20 [02:54<01:36, 13.85s/it]\u001B[A\n",
      " 70%|███████   | 14/20 [03:07<01:21, 13.67s/it]\u001B[A\n",
      " 75%|███████▌  | 15/20 [03:17<01:02, 12.46s/it]\u001B[A\n",
      " 80%|████████  | 16/20 [03:29<00:49, 12.43s/it]\u001B[A\n",
      " 85%|████████▌ | 17/20 [03:39<00:34, 11.56s/it]\u001B[A\n",
      " 90%|█████████ | 18/20 [03:58<00:27, 13.80s/it]\u001B[A\n",
      " 95%|█████████▌| 19/20 [04:11<00:13, 13.56s/it]\u001B[A\n",
      "100%|██████████| 20/20 [04:28<00:00, 13.44s/it]\u001B[A\n",
      " 50%|█████     | 2/4 [05:29<06:05, 182.99s/it]\n",
      "  0%|          | 0/20 [00:00<?, ?it/s]\u001B[A\n",
      "  5%|▌         | 1/20 [00:08<02:47,  8.83s/it]\u001B[A\n",
      " 10%|█         | 2/20 [00:17<02:41,  9.00s/it]\u001B[A\n",
      " 15%|█▌        | 3/20 [00:34<03:27, 12.22s/it]\u001B[A\n",
      " 20%|██        | 4/20 [00:45<03:09, 11.83s/it]\u001B[A\n",
      " 25%|██▌       | 5/20 [00:53<02:36, 10.43s/it]\u001B[A\n",
      " 30%|███       | 6/20 [01:00<02:11,  9.40s/it]\u001B[A\n",
      " 35%|███▌      | 7/20 [01:11<02:06,  9.75s/it]\u001B[A\n",
      " 40%|████      | 8/20 [01:21<01:59,  9.97s/it]\u001B[A\n",
      " 45%|████▌     | 9/20 [01:31<01:50, 10.03s/it]\u001B[A\n",
      " 50%|█████     | 10/20 [01:38<01:31,  9.11s/it]\u001B[A\n",
      " 55%|█████▌    | 11/20 [01:49<01:26,  9.60s/it]\u001B[A\n",
      " 60%|██████    | 12/20 [01:58<01:16,  9.58s/it]\u001B[A\n",
      " 65%|██████▌   | 13/20 [02:09<01:08,  9.82s/it]\u001B[A\n",
      " 70%|███████   | 14/20 [02:19<01:00, 10.03s/it]\u001B[A\n",
      " 75%|███████▌  | 15/20 [02:29<00:49,  9.94s/it]\u001B[A\n",
      " 80%|████████  | 16/20 [02:37<00:37,  9.41s/it]\u001B[A\n",
      " 85%|████████▌ | 17/20 [02:46<00:27,  9.25s/it]\u001B[A\n",
      " 90%|█████████ | 18/20 [02:57<00:19,  9.80s/it]\u001B[A\n",
      " 95%|█████████▌| 19/20 [03:07<00:09,  9.68s/it]\u001B[A\n",
      "100%|██████████| 20/20 [03:16<00:00,  9.83s/it]\u001B[A\n",
      " 75%|███████▌  | 3/4 [08:45<03:09, 189.24s/it]\n",
      "  0%|          | 0/20 [00:00<?, ?it/s]\u001B[A\n",
      "  5%|▌         | 1/20 [00:22<07:16, 22.95s/it]\u001B[A\n",
      " 10%|█         | 2/20 [00:52<08:04, 26.94s/it]\u001B[A\n",
      " 15%|█▌        | 3/20 [01:20<07:46, 27.41s/it]\u001B[A\n",
      " 20%|██        | 4/20 [01:36<06:05, 22.82s/it]\u001B[A\n",
      " 25%|██▌       | 5/20 [02:02<05:57, 23.85s/it]\u001B[A\n",
      " 30%|███       | 6/20 [02:30<05:54, 25.34s/it]\u001B[A\n",
      " 35%|███▌      | 7/20 [02:50<05:06, 23.56s/it]\u001B[A\n",
      " 40%|████      | 8/20 [03:19<05:05, 25.48s/it]\u001B[A\n",
      " 45%|████▌     | 9/20 [03:57<05:21, 29.21s/it]\u001B[A\n",
      " 50%|█████     | 10/20 [04:12<04:08, 24.89s/it]\u001B[A\n",
      " 55%|█████▌    | 11/20 [04:26<03:13, 21.52s/it]\u001B[A\n",
      " 60%|██████    | 12/20 [04:45<02:45, 20.73s/it]\u001B[A\n",
      " 65%|██████▌   | 13/20 [05:09<02:32, 21.72s/it]\u001B[A\n",
      " 70%|███████   | 14/20 [05:26<02:02, 20.50s/it]\u001B[A\n",
      " 75%|███████▌  | 15/20 [05:59<02:01, 24.26s/it]\u001B[A\n",
      " 80%|████████  | 16/20 [06:26<01:39, 24.99s/it]\u001B[A\n",
      " 85%|████████▌ | 17/20 [06:47<01:11, 23.69s/it]\u001B[A\n",
      " 90%|█████████ | 18/20 [07:07<00:45, 22.78s/it]\u001B[A\n",
      " 95%|█████████▌| 19/20 [07:22<00:20, 20.40s/it]\u001B[A\n",
      "100%|██████████| 20/20 [07:43<00:00, 23.19s/it]\u001B[A\n",
      "100%|██████████| 4/4 [16:29<00:00, 247.42s/it]\n"
     ]
    }
   ],
   "source": [
    "map_list = list()\n",
    "mrr_list = list()\n",
    "ndcg_list = list()\n",
    "rmse_list = list()\n",
    "for factor in tqdm(factors):\n",
    "    for alpha in tqdm(alphas):\n",
    "        model = ALSRecommender()\n",
    "        model.train(user_movie_train, factor, lambda_=alpha)\n",
    "        \n",
    "        y_pred = model.predict(make_binary_matrix(user_movie_test.get_rating_matrix()))\n",
    "        map_list.append({\"factor\": factor, \"lambda\": alpha, \"map\": map_score(RatingMatrix(user_movie_test.get_rating_matrix()[y_pred.get_users()]), y_pred, top=10)})\n",
    "        mrr_list.append({\"factor\": factor, \"lambda\": alpha, \"mrr\": mrr_score(RatingMatrix(user_movie_test.get_rating_matrix()[y_pred.get_users()]), y_pred, top=10)})\n",
    "        ndcg_list.append({\"factor\": factor, \"lambda\": alpha, \"ndcg\": ndcg_score(RatingMatrix(user_movie_test.get_rating_matrix()[y_pred.get_users()]), y_pred, top=10)})\n",
    "        rmse_list.append({\"factor\": factor, \"lambda\": alpha, \"rmse\": rmse_score(RatingMatrix(user_movie_test.get_rating_matrix()[y_pred.get_users()]), y_pred)})"
   ],
   "metadata": {
    "collapsed": false,
    "ExecuteTime": {
     "end_time": "2024-07-07T21:06:42.979823Z",
     "start_time": "2024-07-07T20:50:13.268696Z"
    }
   },
   "id": "9168914b3bf7f4c6",
   "execution_count": 4
  },
  {
   "cell_type": "code",
   "outputs": [],
   "source": [
    "map_df = pd.DataFrame(map_list)\n",
    "mrr_df = pd.DataFrame(mrr_list)\n",
    "ndcg_df = pd.DataFrame(ndcg_list)\n",
    "rmse_df = pd.DataFrame(rmse_list)"
   ],
   "metadata": {
    "collapsed": false,
    "ExecuteTime": {
     "end_time": "2024-07-07T21:10:31.641137Z",
     "start_time": "2024-07-07T21:10:31.626030Z"
    }
   },
   "id": "783f3ebae9b5a57b",
   "execution_count": 9
  },
  {
   "cell_type": "code",
   "outputs": [
    {
     "data": {
      "text/plain": "    factor    lambda       map\n65       8  0.013158  0.200768",
      "text/html": "<div>\n<style scoped>\n    .dataframe tbody tr th:only-of-type {\n        vertical-align: middle;\n    }\n\n    .dataframe tbody tr th {\n        vertical-align: top;\n    }\n\n    .dataframe thead th {\n        text-align: right;\n    }\n</style>\n<table border=\"1\" class=\"dataframe\">\n  <thead>\n    <tr style=\"text-align: right;\">\n      <th></th>\n      <th>factor</th>\n      <th>lambda</th>\n      <th>map</th>\n    </tr>\n  </thead>\n  <tbody>\n    <tr>\n      <th>65</th>\n      <td>8</td>\n      <td>0.013158</td>\n      <td>0.200768</td>\n    </tr>\n  </tbody>\n</table>\n</div>"
     },
     "execution_count": 13,
     "metadata": {},
     "output_type": "execute_result"
    }
   ],
   "source": [
    "map_df[map_df['map'] == map_df['map'].max()]"
   ],
   "metadata": {
    "collapsed": false,
    "ExecuteTime": {
     "end_time": "2024-07-07T21:11:48.208403Z",
     "start_time": "2024-07-07T21:11:48.199686Z"
    }
   },
   "id": "2a97205fc4ae64e3",
   "execution_count": 13
  },
  {
   "cell_type": "code",
   "outputs": [
    {
     "data": {
      "text/plain": "    factor    lambda       mrr\n70       8  0.026316  0.488619",
      "text/html": "<div>\n<style scoped>\n    .dataframe tbody tr th:only-of-type {\n        vertical-align: middle;\n    }\n\n    .dataframe tbody tr th {\n        vertical-align: top;\n    }\n\n    .dataframe thead th {\n        text-align: right;\n    }\n</style>\n<table border=\"1\" class=\"dataframe\">\n  <thead>\n    <tr style=\"text-align: right;\">\n      <th></th>\n      <th>factor</th>\n      <th>lambda</th>\n      <th>mrr</th>\n    </tr>\n  </thead>\n  <tbody>\n    <tr>\n      <th>70</th>\n      <td>8</td>\n      <td>0.026316</td>\n      <td>0.488619</td>\n    </tr>\n  </tbody>\n</table>\n</div>"
     },
     "execution_count": 14,
     "metadata": {},
     "output_type": "execute_result"
    }
   ],
   "source": [
    "mrr_df[mrr_df['mrr'] == mrr_df['mrr'].max()]"
   ],
   "metadata": {
    "collapsed": false,
    "ExecuteTime": {
     "end_time": "2024-07-07T21:12:06.035717Z",
     "start_time": "2024-07-07T21:12:06.019527Z"
    }
   },
   "id": "b830a2dfac3c5162",
   "execution_count": 14
  },
  {
   "cell_type": "code",
   "outputs": [
    {
     "data": {
      "text/plain": "    factor    lambda      ndcg\n77       8  0.044737  0.289001",
      "text/html": "<div>\n<style scoped>\n    .dataframe tbody tr th:only-of-type {\n        vertical-align: middle;\n    }\n\n    .dataframe tbody tr th {\n        vertical-align: top;\n    }\n\n    .dataframe thead th {\n        text-align: right;\n    }\n</style>\n<table border=\"1\" class=\"dataframe\">\n  <thead>\n    <tr style=\"text-align: right;\">\n      <th></th>\n      <th>factor</th>\n      <th>lambda</th>\n      <th>ndcg</th>\n    </tr>\n  </thead>\n  <tbody>\n    <tr>\n      <th>77</th>\n      <td>8</td>\n      <td>0.044737</td>\n      <td>0.289001</td>\n    </tr>\n  </tbody>\n</table>\n</div>"
     },
     "execution_count": 15,
     "metadata": {},
     "output_type": "execute_result"
    }
   ],
   "source": [
    "ndcg_df[ndcg_df['ndcg'] == ndcg_df['ndcg'].max()]"
   ],
   "metadata": {
    "collapsed": false,
    "ExecuteTime": {
     "end_time": "2024-07-07T21:12:30.684856Z",
     "start_time": "2024-07-07T21:12:30.669097Z"
    }
   },
   "id": "cfc468009086fa6",
   "execution_count": 15
  },
  {
   "cell_type": "code",
   "outputs": [
    {
     "data": {
      "text/plain": "    factor    lambda      rmse\n74       8  0.036842  3.240899",
      "text/html": "<div>\n<style scoped>\n    .dataframe tbody tr th:only-of-type {\n        vertical-align: middle;\n    }\n\n    .dataframe tbody tr th {\n        vertical-align: top;\n    }\n\n    .dataframe thead th {\n        text-align: right;\n    }\n</style>\n<table border=\"1\" class=\"dataframe\">\n  <thead>\n    <tr style=\"text-align: right;\">\n      <th></th>\n      <th>factor</th>\n      <th>lambda</th>\n      <th>rmse</th>\n    </tr>\n  </thead>\n  <tbody>\n    <tr>\n      <th>74</th>\n      <td>8</td>\n      <td>0.036842</td>\n      <td>3.240899</td>\n    </tr>\n  </tbody>\n</table>\n</div>"
     },
     "execution_count": 16,
     "metadata": {},
     "output_type": "execute_result"
    }
   ],
   "source": [
    "rmse_df[rmse_df['rmse'] == rmse_df['rmse'].min()]"
   ],
   "metadata": {
    "collapsed": false,
    "ExecuteTime": {
     "end_time": "2024-07-07T21:12:51.741239Z",
     "start_time": "2024-07-07T21:12:51.705133Z"
    }
   },
   "id": "8aba3e67ff5f864e",
   "execution_count": 16
  },
  {
   "cell_type": "markdown",
   "source": [
    "The best possible MAP is 0.200 indicates that, on average, about 20.0% of the top-10 recommended items are relevant.\n",
    "\n",
    "The best possible MRR is 0.488 means that, on average, the first relevant item appears between the 2nd and 3rd positions in the recommendation list.\n",
    "\n",
    "NDCG measures the quality of the recommendations by considering the position of the relevant items in the list, with higher-ranked items contributing more to the score. The best possible NDCG is 0.289\n",
    "\n",
    "RMSE measures the differences between the predicted and actual ratings. The best possible RMSE is 3.24."
   ],
   "metadata": {
    "collapsed": false
   },
   "id": "6b1e02b8f76e8ca0"
  }
 ],
 "metadata": {
  "kernelspec": {
   "display_name": "Python 3",
   "language": "python",
   "name": "python3"
  },
  "language_info": {
   "codemirror_mode": {
    "name": "ipython",
    "version": 2
   },
   "file_extension": ".py",
   "mimetype": "text/x-python",
   "name": "python",
   "nbconvert_exporter": "python",
   "pygments_lexer": "ipython2",
   "version": "2.7.6"
  }
 },
 "nbformat": 4,
 "nbformat_minor": 5
}
