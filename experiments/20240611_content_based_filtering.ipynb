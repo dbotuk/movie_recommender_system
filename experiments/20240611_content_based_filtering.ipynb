{
 "cells": [
  {
   "cell_type": "code",
   "execution_count": 1,
   "id": "initial_id",
   "metadata": {
    "collapsed": true,
    "ExecuteTime": {
     "end_time": "2024-06-14T18:36:10.819604Z",
     "start_time": "2024-06-14T18:36:09.815617Z"
    }
   },
   "outputs": [],
   "source": [
    "import pandas as pd\n",
    "\n",
    "from src.metrics import map_score, mrr_score, ndcg_score, rmse_score\n",
    "from src.models.content_based_filtering import ContentBasedFilteringRecommender\n",
    "from src.utils import train_test_split, to_user_movie_matrix, make_binary_matrix"
   ]
  },
  {
   "cell_type": "code",
   "outputs": [],
   "source": [
    "users = pd.read_table(\"../data/users.dat\", sep=\"::\", names=['UserID', 'Gender', 'Age', 'Occupation', 'Zip-code'], engine='python')"
   ],
   "metadata": {
    "collapsed": false,
    "ExecuteTime": {
     "end_time": "2024-06-14T18:36:10.858180Z",
     "start_time": "2024-06-14T18:36:10.821883Z"
    }
   },
   "id": "21f85a481665f20a",
   "execution_count": 2
  },
  {
   "cell_type": "code",
   "outputs": [],
   "source": [
    "movies = pd.read_table(\"../data/movies.dat\", sep=\"::\", names=['MovieID', 'Title', 'Genres'], engine='python', encoding='latin1')"
   ],
   "metadata": {
    "collapsed": false,
    "ExecuteTime": {
     "end_time": "2024-06-14T18:36:10.888548Z",
     "start_time": "2024-06-14T18:36:10.874852Z"
    }
   },
   "id": "e841f34a2faaa801",
   "execution_count": 3
  },
  {
   "cell_type": "code",
   "outputs": [],
   "source": [
    "ratings = pd.read_table(\"../data/ratings.dat\", sep=\"::\", names=['UserID', 'MovieID', 'Rating', 'Timestamp'], engine='python')\n",
    "ratings['Timestamp'] = pd.to_datetime(ratings['Timestamp'], unit='s')\n",
    "\n",
    "train_ratings, test_ratings = train_test_split(ratings, 'Timestamp')\n",
    "user_movie_train = to_user_movie_matrix(train_ratings)\n",
    "user_movie_test = to_user_movie_matrix(test_ratings)"
   ],
   "metadata": {
    "collapsed": false,
    "ExecuteTime": {
     "end_time": "2024-06-14T18:36:13.706835Z",
     "start_time": "2024-06-14T18:36:10.901027Z"
    }
   },
   "id": "6c1e4c8c23b4c71f",
   "execution_count": 4
  },
  {
   "cell_type": "code",
   "outputs": [],
   "source": [
    "model = ContentBasedFilteringRecommender()\n",
    "model.train(user_movie_train, movies, 'tfidf')\n",
    "\n",
    "y_pred = model.predict(make_binary_matrix(user_movie_test.get_rating_matrix()), user_movie_test.get_users(), user_movie_test.get_movies())"
   ],
   "metadata": {
    "collapsed": false,
    "ExecuteTime": {
     "end_time": "2024-06-14T18:36:15.253683Z",
     "start_time": "2024-06-14T18:36:13.707904Z"
    }
   },
   "id": "51c89898b0f6dfe0",
   "execution_count": 5
  },
  {
   "cell_type": "code",
   "outputs": [],
   "source": [
    "from src.utils import RatingMatrix\n",
    "\n",
    "temp_users = y_pred.get_rating_matrix().columns\n",
    "temp_movies = y_pred.get_rating_matrix().index\n",
    "final_test = RatingMatrix(user_movie_test.get_rating_matrix().loc[temp_movies][temp_users])"
   ],
   "metadata": {
    "collapsed": false,
    "ExecuteTime": {
     "end_time": "2024-06-14T18:36:15.282801Z",
     "start_time": "2024-06-14T18:36:15.254418Z"
    }
   },
   "id": "2b794193e29614fc",
   "execution_count": 6
  },
  {
   "cell_type": "code",
   "outputs": [
    {
     "name": "stdout",
     "output_type": "stream",
     "text": [
      "Baseline MAP: 0.15553108303108282\n",
      "Baseline MRR: 0.377042042042042\n",
      "Baseline NDCG: 0.20987471988425865\n",
      "Baseline RMSE: 357.4582501464409\n"
     ]
    }
   ],
   "source": [
    "map_score_value = map_score(final_test, y_pred, top=10)\n",
    "mrr_score_value = mrr_score(final_test, y_pred, top=10)\n",
    "ndcg_score_value = ndcg_score(final_test, y_pred, top=10)\n",
    "rmse_score_value = rmse_score(final_test, y_pred)\n",
    "\n",
    "print(f'Baseline MAP: {map_score_value}')\n",
    "print(f'Baseline MRR: {mrr_score_value}')\n",
    "print(f'Baseline NDCG: {ndcg_score_value}')\n",
    "print(f'Baseline RMSE: {rmse_score_value}')"
   ],
   "metadata": {
    "collapsed": false,
    "ExecuteTime": {
     "end_time": "2024-06-14T18:36:16.899886Z",
     "start_time": "2024-06-14T18:36:15.283492Z"
    }
   },
   "id": "fdc3eccc4b869634",
   "execution_count": 7
  }
 ],
 "metadata": {
  "kernelspec": {
   "display_name": "Python 3",
   "language": "python",
   "name": "python3"
  },
  "language_info": {
   "codemirror_mode": {
    "name": "ipython",
    "version": 2
   },
   "file_extension": ".py",
   "mimetype": "text/x-python",
   "name": "python",
   "nbconvert_exporter": "python",
   "pygments_lexer": "ipython2",
   "version": "2.7.6"
  }
 },
 "nbformat": 4,
 "nbformat_minor": 5
}
