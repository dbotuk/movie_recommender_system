{
 "cells": [
  {
   "cell_type": "code",
   "execution_count": 1,
   "id": "initial_id",
   "metadata": {
    "collapsed": true,
    "ExecuteTime": {
     "end_time": "2024-06-15T15:16:34.813958Z",
     "start_time": "2024-06-15T15:16:33.979798Z"
    }
   },
   "outputs": [],
   "source": [
    "import pandas as pd\n",
    "\n",
    "from src.metrics import map_score, mrr_score, ndcg_score, rmse_score\n",
    "from src.models.content_based_filtering import ContentBasedFilteringRecommender\n",
    "from src.utils import train_test_split, to_user_movie_matrix, make_binary_matrix, RatingMatrix"
   ]
  },
  {
   "cell_type": "markdown",
   "source": [
    "Let's load the datasets with users info, movies info and users' ratings for movies.\n",
    "\n",
    "Then we split it to training/test subsets by the timestamp."
   ],
   "metadata": {
    "collapsed": false
   },
   "id": "cdde08a0225832f8"
  },
  {
   "cell_type": "code",
   "outputs": [],
   "source": [
    "users = pd.read_table(\"../data/users.dat\", sep=\"::\", names=['UserID', 'Gender', 'Age', 'Occupation', 'Zip-code'], engine='python')\n",
    "\n",
    "# movies = pd.read_table(\"../data/movies.dat\", sep=\"::\", names=['MovieID', 'Title', 'Genres'], engine='python', encoding='latin1')\n",
    "movies = pd.read_table(\"../data/movies_extended.csv\", sep=',', engine='python', encoding='latin1')[['MovieID', 'Title', 'Genres']]\n",
    "\n",
    "ratings = pd.read_table(\"../data/ratings.dat\", sep=\"::\", names=['UserID', 'MovieID', 'Rating', 'Timestamp'], engine='python')\n",
    "ratings['Timestamp'] = pd.to_datetime(ratings['Timestamp'], unit='s')\n",
    "\n",
    "ratings = ratings[ratings['MovieID'].isin(movies['MovieID'])]\n",
    "\n",
    "train_ratings, test_ratings = train_test_split(ratings, 'Timestamp')\n",
    "user_movie_train = to_user_movie_matrix(train_ratings)\n",
    "user_movie_test = to_user_movie_matrix(test_ratings)"
   ],
   "metadata": {
    "collapsed": false,
    "ExecuteTime": {
     "end_time": "2024-06-15T15:16:37.546240Z",
     "start_time": "2024-06-15T15:16:34.815154Z"
    }
   },
   "id": "21f85a481665f20a",
   "execution_count": 2
  },
  {
   "cell_type": "markdown",
   "source": [
    "Now, we are going to train our content-based recommender model, which predicts ratings based on the movie features. It takes into account the similarity between the movie, we are going to predict the rating of, and the movies, which were rated by the user before."
   ],
   "metadata": {
    "collapsed": false
   },
   "id": "7c1fcaeb26921129"
  },
  {
   "cell_type": "code",
   "outputs": [],
   "source": [
    "model = ContentBasedFilteringRecommender()\n",
    "model.train(user_movie_train, movies)\n",
    "\n",
    "y_pred = model.predict(make_binary_matrix(user_movie_test.get_rating_matrix()))"
   ],
   "metadata": {
    "collapsed": false,
    "ExecuteTime": {
     "end_time": "2024-06-15T15:16:39.164682Z",
     "start_time": "2024-06-15T15:16:37.547339Z"
    }
   },
   "id": "51c89898b0f6dfe0",
   "execution_count": 3
  },
  {
   "cell_type": "markdown",
   "source": [
    "Given the predicted ratings and test dataset, we are going to evaluate our model by four metrics:\n",
    "* mean average precision (MAP)\n",
    "* mean reciprocal rank (MRR)\n",
    "* normalized discounted cumulative gain (NDCG)\n",
    "* root mean squared error (RMSE)"
   ],
   "metadata": {
    "collapsed": false
   },
   "id": "3ef6ca1dc4ee89b8"
  },
  {
   "cell_type": "code",
   "outputs": [
    {
     "name": "stdout",
     "output_type": "stream",
     "text": [
      "Baseline MAP: 0.24190121819432164\n",
      "Baseline MRR: 0.5550913645741232\n",
      "Baseline NDCG: 0.339966940548695\n",
      "Baseline RMSE: 1.1177762108454448\n"
     ]
    }
   ],
   "source": [
    "map_score_value = map_score(RatingMatrix(user_movie_test.get_rating_matrix()[y_pred.get_users()]), y_pred, top=10)\n",
    "mrr_score_value = mrr_score(RatingMatrix(user_movie_test.get_rating_matrix()[y_pred.get_users()]), y_pred, top=10)\n",
    "ndcg_score_value = ndcg_score(RatingMatrix(user_movie_test.get_rating_matrix()[y_pred.get_users()]), y_pred, top=10)\n",
    "rmse_score_value = rmse_score(RatingMatrix(user_movie_test.get_rating_matrix()[y_pred.get_users()]), y_pred)\n",
    "\n",
    "print(f'Baseline MAP: {map_score_value}')\n",
    "print(f'Baseline MRR: {mrr_score_value}')\n",
    "print(f'Baseline NDCG: {ndcg_score_value}')\n",
    "print(f'Baseline RMSE: {rmse_score_value}')"
   ],
   "metadata": {
    "collapsed": false,
    "ExecuteTime": {
     "end_time": "2024-06-15T15:16:40.077864Z",
     "start_time": "2024-06-15T15:16:39.165505Z"
    }
   },
   "id": "fdc3eccc4b869634",
   "execution_count": 4
  },
  {
   "cell_type": "markdown",
   "source": [
    "A MAP of 0.241 indicates that, on average, about 24.1% of the top-10 recommended items are relevant.\n",
    "\n",
    "An MRR of 0.555 means that, on average, the first relevant item appears between the 1st and 2nd positions in the recommendation list.\n",
    "\n",
    "NDCG measures the quality of the recommendations by considering the position of the relevant items in the list, with higher-ranked items contributing more to the score.\n",
    "\n",
    "RMSE measures the differences between the predicted and actual ratings, which in our case is about 1 and a little bit bigger than baseline"
   ],
   "metadata": {
    "collapsed": false
   },
   "id": "6b1e02b8f76e8ca0"
  }
 ],
 "metadata": {
  "kernelspec": {
   "display_name": "Python 3",
   "language": "python",
   "name": "python3"
  },
  "language_info": {
   "codemirror_mode": {
    "name": "ipython",
    "version": 2
   },
   "file_extension": ".py",
   "mimetype": "text/x-python",
   "name": "python",
   "nbconvert_exporter": "python",
   "pygments_lexer": "ipython2",
   "version": "2.7.6"
  }
 },
 "nbformat": 4,
 "nbformat_minor": 5
}
