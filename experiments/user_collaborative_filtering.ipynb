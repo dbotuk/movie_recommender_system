{
 "cells": [
  {
   "cell_type": "code",
   "id": "76664f77-d354-475b-834f-ac745f483479",
   "metadata": {
    "ExecuteTime": {
     "end_time": "2024-06-16T17:39:04.701268Z",
     "start_time": "2024-06-16T17:39:03.830014Z"
    }
   },
   "source": [
    "import pandas as pd\n",
    "from src.utils import train_test_split\n",
    "from src.models.user_collaborative_filtering import UserCollaborativeFiltering\n",
    "from src.metrics import map_score, mrr_score, ndcg_score, rmse_score\n",
    "from tqdm import tqdm\n",
    "from src.utils import RatingMatrix"
   ],
   "outputs": [],
   "execution_count": 1
  },
  {
   "cell_type": "code",
   "id": "080f7f18-9b61-44a7-a81c-5ebd6a5269b0",
   "metadata": {
    "ExecuteTime": {
     "end_time": "2024-06-16T17:39:09.785586Z",
     "start_time": "2024-06-16T17:39:05.705918Z"
    }
   },
   "source": [
    "ratings = pd.read_table(\"../data/ratings.dat\", sep=\"::\", names=['UserID', 'MovieID', 'Rating', 'Timestamp'], engine='python')\n",
    "ratings['Timestamp'] = pd.to_datetime(ratings['Timestamp'], unit='s')"
   ],
   "outputs": [],
   "execution_count": 2
  },
  {
   "metadata": {
    "ExecuteTime": {
     "end_time": "2024-06-16T17:39:09.799955Z",
     "start_time": "2024-06-16T17:39:09.787318Z"
    }
   },
   "cell_type": "code",
   "source": "ratings.head()",
   "id": "7164be2220346d50",
   "outputs": [
    {
     "data": {
      "text/plain": [
       "   UserID  MovieID  Rating           Timestamp\n",
       "0       1     1193       5 2000-12-31 22:12:40\n",
       "1       1      661       3 2000-12-31 22:35:09\n",
       "2       1      914       3 2000-12-31 22:32:48\n",
       "3       1     3408       4 2000-12-31 22:04:35\n",
       "4       1     2355       5 2001-01-06 23:38:11"
      ],
      "text/html": [
       "<div>\n",
       "<style scoped>\n",
       "    .dataframe tbody tr th:only-of-type {\n",
       "        vertical-align: middle;\n",
       "    }\n",
       "\n",
       "    .dataframe tbody tr th {\n",
       "        vertical-align: top;\n",
       "    }\n",
       "\n",
       "    .dataframe thead th {\n",
       "        text-align: right;\n",
       "    }\n",
       "</style>\n",
       "<table border=\"1\" class=\"dataframe\">\n",
       "  <thead>\n",
       "    <tr style=\"text-align: right;\">\n",
       "      <th></th>\n",
       "      <th>UserID</th>\n",
       "      <th>MovieID</th>\n",
       "      <th>Rating</th>\n",
       "      <th>Timestamp</th>\n",
       "    </tr>\n",
       "  </thead>\n",
       "  <tbody>\n",
       "    <tr>\n",
       "      <th>0</th>\n",
       "      <td>1</td>\n",
       "      <td>1193</td>\n",
       "      <td>5</td>\n",
       "      <td>2000-12-31 22:12:40</td>\n",
       "    </tr>\n",
       "    <tr>\n",
       "      <th>1</th>\n",
       "      <td>1</td>\n",
       "      <td>661</td>\n",
       "      <td>3</td>\n",
       "      <td>2000-12-31 22:35:09</td>\n",
       "    </tr>\n",
       "    <tr>\n",
       "      <th>2</th>\n",
       "      <td>1</td>\n",
       "      <td>914</td>\n",
       "      <td>3</td>\n",
       "      <td>2000-12-31 22:32:48</td>\n",
       "    </tr>\n",
       "    <tr>\n",
       "      <th>3</th>\n",
       "      <td>1</td>\n",
       "      <td>3408</td>\n",
       "      <td>4</td>\n",
       "      <td>2000-12-31 22:04:35</td>\n",
       "    </tr>\n",
       "    <tr>\n",
       "      <th>4</th>\n",
       "      <td>1</td>\n",
       "      <td>2355</td>\n",
       "      <td>5</td>\n",
       "      <td>2001-01-06 23:38:11</td>\n",
       "    </tr>\n",
       "  </tbody>\n",
       "</table>\n",
       "</div>"
      ]
     },
     "execution_count": 3,
     "metadata": {},
     "output_type": "execute_result"
    }
   ],
   "execution_count": 3
  },
  {
   "metadata": {
    "ExecuteTime": {
     "end_time": "2024-06-16T17:39:10.210400Z",
     "start_time": "2024-06-16T17:39:10.185613Z"
    }
   },
   "cell_type": "code",
   "source": "print(ratings.UserID.unique().shape[0], ratings.MovieID.unique().shape[0])",
   "id": "6b0aa3450749fa70",
   "outputs": [
    {
     "name": "stdout",
     "output_type": "stream",
     "text": [
      "6040 3706\n"
     ]
    }
   ],
   "execution_count": 4
  },
  {
   "metadata": {
    "ExecuteTime": {
     "end_time": "2024-06-16T17:39:13.026100Z",
     "start_time": "2024-06-16T17:39:12.516978Z"
    }
   },
   "cell_type": "code",
   "source": "train_ratings, test_ratings = train_test_split(ratings, 'Timestamp')",
   "id": "e2692e749e7c9d46",
   "outputs": [],
   "execution_count": 5
  },
  {
   "metadata": {
    "ExecuteTime": {
     "end_time": "2024-06-16T17:39:15.052570Z",
     "start_time": "2024-06-16T17:39:15.044859Z"
    }
   },
   "cell_type": "code",
   "source": "train_ratings.get_user_ratings(1000)",
   "id": "1955c4940d27d4a5",
   "outputs": [
    {
     "data": {
      "text/plain": [
       "MovieID\n",
       "1       5.0\n",
       "2       NaN\n",
       "3       NaN\n",
       "4       NaN\n",
       "5       NaN\n",
       "       ... \n",
       "3948    NaN\n",
       "3949    NaN\n",
       "3950    NaN\n",
       "3951    NaN\n",
       "3952    NaN\n",
       "Name: 1000, Length: 3651, dtype: float64"
      ]
     },
     "execution_count": 6,
     "metadata": {},
     "output_type": "execute_result"
    }
   ],
   "execution_count": 6
  },
  {
   "metadata": {
    "ExecuteTime": {
     "end_time": "2024-06-16T17:44:03.983892Z",
     "start_time": "2024-06-16T17:44:03.971838Z"
    }
   },
   "cell_type": "code",
   "source": "ratings[ratings.UserID <= 100]",
   "id": "229cc03f6ef955f9",
   "outputs": [
    {
     "data": {
      "text/plain": [
       "       UserID  MovieID  Rating           Timestamp\n",
       "0           1     1193       5 2000-12-31 22:12:40\n",
       "1           1      661       3 2000-12-31 22:35:09\n",
       "2           1      914       3 2000-12-31 22:32:48\n",
       "3           1     3408       4 2000-12-31 22:04:35\n",
       "4           1     2355       5 2001-01-06 23:38:11\n",
       "...       ...      ...     ...                 ...\n",
       "12971     100     1221       3 2000-12-23 17:52:30\n",
       "12972     100     2028       4 2000-12-23 17:53:08\n",
       "12973     100      480       3 2000-12-23 17:54:52\n",
       "12974     100     1304       3 2000-12-23 17:53:08\n",
       "12975     100     2115       3 2000-12-23 17:57:21\n",
       "\n",
       "[12976 rows x 4 columns]"
      ],
      "text/html": [
       "<div>\n",
       "<style scoped>\n",
       "    .dataframe tbody tr th:only-of-type {\n",
       "        vertical-align: middle;\n",
       "    }\n",
       "\n",
       "    .dataframe tbody tr th {\n",
       "        vertical-align: top;\n",
       "    }\n",
       "\n",
       "    .dataframe thead th {\n",
       "        text-align: right;\n",
       "    }\n",
       "</style>\n",
       "<table border=\"1\" class=\"dataframe\">\n",
       "  <thead>\n",
       "    <tr style=\"text-align: right;\">\n",
       "      <th></th>\n",
       "      <th>UserID</th>\n",
       "      <th>MovieID</th>\n",
       "      <th>Rating</th>\n",
       "      <th>Timestamp</th>\n",
       "    </tr>\n",
       "  </thead>\n",
       "  <tbody>\n",
       "    <tr>\n",
       "      <th>0</th>\n",
       "      <td>1</td>\n",
       "      <td>1193</td>\n",
       "      <td>5</td>\n",
       "      <td>2000-12-31 22:12:40</td>\n",
       "    </tr>\n",
       "    <tr>\n",
       "      <th>1</th>\n",
       "      <td>1</td>\n",
       "      <td>661</td>\n",
       "      <td>3</td>\n",
       "      <td>2000-12-31 22:35:09</td>\n",
       "    </tr>\n",
       "    <tr>\n",
       "      <th>2</th>\n",
       "      <td>1</td>\n",
       "      <td>914</td>\n",
       "      <td>3</td>\n",
       "      <td>2000-12-31 22:32:48</td>\n",
       "    </tr>\n",
       "    <tr>\n",
       "      <th>3</th>\n",
       "      <td>1</td>\n",
       "      <td>3408</td>\n",
       "      <td>4</td>\n",
       "      <td>2000-12-31 22:04:35</td>\n",
       "    </tr>\n",
       "    <tr>\n",
       "      <th>4</th>\n",
       "      <td>1</td>\n",
       "      <td>2355</td>\n",
       "      <td>5</td>\n",
       "      <td>2001-01-06 23:38:11</td>\n",
       "    </tr>\n",
       "    <tr>\n",
       "      <th>...</th>\n",
       "      <td>...</td>\n",
       "      <td>...</td>\n",
       "      <td>...</td>\n",
       "      <td>...</td>\n",
       "    </tr>\n",
       "    <tr>\n",
       "      <th>12971</th>\n",
       "      <td>100</td>\n",
       "      <td>1221</td>\n",
       "      <td>3</td>\n",
       "      <td>2000-12-23 17:52:30</td>\n",
       "    </tr>\n",
       "    <tr>\n",
       "      <th>12972</th>\n",
       "      <td>100</td>\n",
       "      <td>2028</td>\n",
       "      <td>4</td>\n",
       "      <td>2000-12-23 17:53:08</td>\n",
       "    </tr>\n",
       "    <tr>\n",
       "      <th>12973</th>\n",
       "      <td>100</td>\n",
       "      <td>480</td>\n",
       "      <td>3</td>\n",
       "      <td>2000-12-23 17:54:52</td>\n",
       "    </tr>\n",
       "    <tr>\n",
       "      <th>12974</th>\n",
       "      <td>100</td>\n",
       "      <td>1304</td>\n",
       "      <td>3</td>\n",
       "      <td>2000-12-23 17:53:08</td>\n",
       "    </tr>\n",
       "    <tr>\n",
       "      <th>12975</th>\n",
       "      <td>100</td>\n",
       "      <td>2115</td>\n",
       "      <td>3</td>\n",
       "      <td>2000-12-23 17:57:21</td>\n",
       "    </tr>\n",
       "  </tbody>\n",
       "</table>\n",
       "<p>12976 rows × 4 columns</p>\n",
       "</div>"
      ]
     },
     "execution_count": 17,
     "metadata": {},
     "output_type": "execute_result"
    }
   ],
   "execution_count": 17
  },
  {
   "metadata": {
    "ExecuteTime": {
     "end_time": "2024-06-16T17:45:59.195563Z",
     "start_time": "2024-06-16T17:45:59.120308Z"
    }
   },
   "cell_type": "code",
   "source": "ratings1 = RatingMatrix(ratings[ratings.UserID <= 1000].pivot(index='MovieID', columns='UserID', values='Rating'))",
   "id": "f338856c84c5c8ae",
   "outputs": [],
   "execution_count": 23
  },
  {
   "metadata": {
    "ExecuteTime": {
     "end_time": "2024-06-16T17:46:01.322221Z",
     "start_time": "2024-06-16T17:46:01.265335Z"
    }
   },
   "cell_type": "code",
   "source": [
    "filtering = UserCollaborativeFiltering()\n",
    "filtering.fit(ratings1)"
   ],
   "id": "b5234413f765bbd0",
   "outputs": [],
   "execution_count": 24
  },
  {
   "metadata": {
    "ExecuteTime": {
     "end_time": "2024-06-16T18:28:39.063667Z",
     "start_time": "2024-06-16T18:01:21.392721Z"
    }
   },
   "cell_type": "code",
   "source": [
    "predicted_ratings = RatingMatrix(pd.DataFrame(index=ratings1.get_rating_matrix().index, columns=ratings1.get_rating_matrix().columns))\n",
    "for user_id in tqdm(ratings1.get_rating_matrix().columns):\n",
    "    for movie_id in ratings1.get_rating_matrix().index:\n",
    "        if pd.isna(ratings1.get_rating(user_id, movie_id)):\n",
    "            continue\n",
    "        predicted_rating = filtering.predict(user_id, movie_id)\n",
    "        predicted_ratings.matrix.loc[movie_id, user_id] = predicted_rating"
   ],
   "id": "a8cf820931665390",
   "outputs": [
    {
     "name": "stderr",
     "output_type": "stream",
     "text": [
      "100%|██████████| 1000/1000 [27:17<00:00,  1.64s/it]\n"
     ]
    }
   ],
   "execution_count": 26
  },
  {
   "metadata": {
    "ExecuteTime": {
     "end_time": "2024-06-16T18:28:41.319212Z",
     "start_time": "2024-06-16T18:28:39.065690Z"
    }
   },
   "cell_type": "code",
   "source": [
    "map_result = map_score(ratings1, predicted_ratings)\n",
    "mrr_result = mrr_score(ratings1, predicted_ratings)\n",
    "ndcg_result = ndcg_score(ratings1, predicted_ratings)\n",
    "rmse_result = rmse_score(ratings1, predicted_ratings)"
   ],
   "id": "441eba3a72a1dee4",
   "outputs": [],
   "execution_count": 27
  },
  {
   "metadata": {
    "ExecuteTime": {
     "end_time": "2024-06-16T18:28:41.324107Z",
     "start_time": "2024-06-16T18:28:41.320217Z"
    }
   },
   "cell_type": "code",
   "source": [
    "print(f\"MAP: {map_result}\")\n",
    "print(f\"MRR: {mrr_result}\")\n",
    "print(f\"NDCG: {ndcg_result}\")\n",
    "print(f\"RMSE: {rmse_result}\")"
   ],
   "id": "80ef933a0fdc1195",
   "outputs": [
    {
     "name": "stdout",
     "output_type": "stream",
     "text": [
      "MAP: 0.18885749999999984\n",
      "MRR: 0.48265357142857146\n",
      "NDCG: 0.3128752801938456\n",
      "RMSE: 336.2590067201386\n"
     ]
    }
   ],
   "execution_count": 28
  }
 ],
 "metadata": {
  "kernelspec": {
   "display_name": "Python 3 (ipykernel)",
   "language": "python",
   "name": "python3"
  },
  "language_info": {
   "codemirror_mode": {
    "name": "ipython",
    "version": 3
   },
   "file_extension": ".py",
   "mimetype": "text/x-python",
   "name": "python",
   "nbconvert_exporter": "python",
   "pygments_lexer": "ipython3",
   "version": "3.11.9"
  }
 },
 "nbformat": 4,
 "nbformat_minor": 5
}
