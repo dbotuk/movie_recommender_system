{
 "cells": [
  {
   "cell_type": "code",
   "execution_count": 1,
   "id": "initial_id",
   "metadata": {
    "collapsed": true,
    "ExecuteTime": {
     "end_time": "2024-06-14T19:17:32.356244Z",
     "start_time": "2024-06-14T19:17:31.465048Z"
    }
   },
   "outputs": [],
   "source": [
    "import pandas as pd\n",
    "\n",
    "from src.metrics import map_score, mrr_score, ndcg_score, rmse_score\n",
    "from src.models.content_based_filtering import ContentBasedFilteringRecommender\n",
    "from src.utils import train_test_split, to_user_movie_matrix, make_binary_matrix"
   ]
  },
  {
   "cell_type": "markdown",
   "source": [
    "Let's load the datasets with users info, extended movies info and users' ratings for movies.\n",
    "\n",
    "The data with movie info are extended by the information about directors, actors, runtimes, production companies, which we have took by IMDb API.\n",
    "\n",
    "Then we split it to training/test subsets by the timestamp."
   ],
   "metadata": {
    "collapsed": false
   },
   "id": "ac32c36eb98e6269"
  },
  {
   "cell_type": "code",
   "outputs": [],
   "source": [
    "users = pd.read_table(\"../data/users.dat\", sep=\"::\", names=['UserID', 'Gender', 'Age', 'Occupation', 'Zip-code'], engine='python')\n",
    "\n",
    "movies = pd.read_table(\"../data/movies_extended.csv\", sep=',', engine='python', encoding='latin1')\n",
    "\n",
    "ratings = pd.read_table(\"../data/ratings.dat\", sep=\"::\", names=['UserID', 'MovieID', 'Rating', 'Timestamp'], engine='python')\n",
    "ratings['Timestamp'] = pd.to_datetime(ratings['Timestamp'], unit='s')\n",
    "\n",
    "ratings = ratings[ratings['MovieID'].isin(movies['MovieID'])]\n",
    "\n",
    "train_ratings, test_ratings = train_test_split(ratings, 'Timestamp')\n",
    "user_movie_train = to_user_movie_matrix(train_ratings)\n",
    "user_movie_test = to_user_movie_matrix(test_ratings)"
   ],
   "metadata": {
    "collapsed": false,
    "ExecuteTime": {
     "end_time": "2024-06-14T19:17:35.234759Z",
     "start_time": "2024-06-14T19:17:32.357363Z"
    }
   },
   "id": "21f85a481665f20a",
   "execution_count": 2
  },
  {
   "cell_type": "markdown",
   "source": [
    "Now, we are going to train our content-based recommender model, which predicts ratings based on the movie features. It takes into account the similarity between the movie, we are going to predict the rating of, and the movies, which were rated by the user before."
   ],
   "metadata": {
    "collapsed": false
   },
   "id": "9dac7984521e7308"
  },
  {
   "cell_type": "code",
   "outputs": [],
   "source": [
    "model = ContentBasedFilteringRecommender()\n",
    "model.train(user_movie_train, movies)\n",
    "\n",
    "y_pred = model.predict(make_binary_matrix(user_movie_test.get_rating_matrix()), user_movie_test.get_users(), user_movie_test.get_movies())"
   ],
   "metadata": {
    "collapsed": false,
    "ExecuteTime": {
     "end_time": "2024-06-14T19:17:37.004043Z",
     "start_time": "2024-06-14T19:17:35.235577Z"
    }
   },
   "id": "51c89898b0f6dfe0",
   "execution_count": 3
  },
  {
   "cell_type": "markdown",
   "source": [
    "Given the predicted ratings and test dataset, we are going to evaluate our model by four metrics:\n",
    "* mean average precision (MAP)\n",
    "* mean reciprocal rank (MRR)\n",
    "* normalized discounted cumulative gain (NDCG)\n",
    "* root mean squared error (RMSE)"
   ],
   "metadata": {
    "collapsed": false
   },
   "id": "87292c44e9583619"
  },
  {
   "cell_type": "code",
   "outputs": [
    {
     "name": "stdout",
     "output_type": "stream",
     "text": [
      "Baseline MAP: 0.16421373473072112\n",
      "Baseline MRR: 0.3939339054183958\n",
      "Baseline NDCG: 0.22013055941043327\n",
      "Baseline RMSE: 347.6384963146933\n"
     ]
    }
   ],
   "source": [
    "map_score_value = map_score(user_movie_test, y_pred, top=10)\n",
    "mrr_score_value = mrr_score(user_movie_test, y_pred, top=10)\n",
    "ndcg_score_value = ndcg_score(user_movie_test, y_pred, top=10)\n",
    "rmse_score_value = rmse_score(user_movie_test, y_pred)\n",
    "\n",
    "print(f'Baseline MAP: {map_score_value}')\n",
    "print(f'Baseline MRR: {mrr_score_value}')\n",
    "print(f'Baseline NDCG: {ndcg_score_value}')\n",
    "print(f'Baseline RMSE: {rmse_score_value}')"
   ],
   "metadata": {
    "collapsed": false,
    "ExecuteTime": {
     "end_time": "2024-06-14T19:17:38.775874Z",
     "start_time": "2024-06-14T19:17:37.006897Z"
    }
   },
   "id": "fdc3eccc4b869634",
   "execution_count": 4
  },
  {
   "cell_type": "markdown",
   "source": [
    "A MAP of 0.164 indicates that, on average, about 16.4% of the top-10 recommended items are relevant.\n",
    "\n",
    "An MRR of 0.393 means that, on average, the first relevant item appears between the 2nd and 3rd positions in the recommendation list.\n",
    "\n",
    "NDCG measures the quality of the recommendations by considering the position of the relevant items in the list, with higher-ranked items contributing more to the score.\n",
    "\n",
    "RMSE measures the differences between the predicted and actual ratings, which in our case is quite big, but significantly lower than baseline, and just a little bit lower than content-based filtering using only genres info.\n",
    "\n",
    "So, adding more info about movie in our case improved the results, but not singnificanlty."
   ],
   "metadata": {
    "collapsed": false
   },
   "id": "7dd89792eae9a435"
  },
  {
   "cell_type": "code",
   "outputs": [],
   "source": [],
   "metadata": {
    "collapsed": false
   },
   "id": "941d535fa5578d93"
  }
 ],
 "metadata": {
  "kernelspec": {
   "display_name": "Python 3",
   "language": "python",
   "name": "python3"
  },
  "language_info": {
   "codemirror_mode": {
    "name": "ipython",
    "version": 2
   },
   "file_extension": ".py",
   "mimetype": "text/x-python",
   "name": "python",
   "nbconvert_exporter": "python",
   "pygments_lexer": "ipython2",
   "version": "2.7.6"
  }
 },
 "nbformat": 4,
 "nbformat_minor": 5
}
