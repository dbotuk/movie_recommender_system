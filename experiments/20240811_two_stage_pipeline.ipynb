{
 "cells": [
  {
   "cell_type": "code",
   "execution_count": 1,
   "metadata": {},
   "outputs": [],
   "source": [
    "import sys\n",
    "import os\n",
    "\n",
    "current_dir = os.getcwd()\n",
    "project_root = os.path.abspath(os.path.join(current_dir, '..'))\n",
    "sys.path.append(os.path.join(project_root, 'src'))"
   ]
  },
  {
   "cell_type": "code",
   "execution_count": 61,
   "metadata": {},
   "outputs": [],
   "source": [
    "import pandas as pd\n",
    "import numpy as np\n",
    "import random\n",
    "\n",
    "\n",
    "from metrics import map_score, mrr_score, ndcg_score, rmse_score, average_precision\n",
    "from utils import to_user_movie_matrix, make_binary_matrix, RatingMatrix"
   ]
  },
  {
   "cell_type": "code",
   "execution_count": 3,
   "metadata": {},
   "outputs": [],
   "source": [
    "#for the first stage \n",
    "from surprise import Dataset, Reader, SVD\n",
    "from surprise.model_selection import cross_validate, GridSearchCV, train_test_split\n",
    "\n",
    "#for the second stage \n",
    "from sklearn.model_selection import train_test_split as train_test_split_sklearn\n",
    "from sklearn.ensemble import GradientBoostingClassifier\n",
    "from sklearn.metrics import accuracy_score"
   ]
  },
  {
   "cell_type": "code",
   "execution_count": null,
   "metadata": {},
   "outputs": [],
   "source": []
  },
  {
   "cell_type": "code",
   "execution_count": 4,
   "metadata": {},
   "outputs": [],
   "source": [
    "ratings = pd.read_csv('../data/ratings.dat', sep='::', engine='python', names=['UserID', 'MovieID', 'Rating', 'Timestamp'])\n",
    "users = pd.read_csv('../data/users.dat', sep='::', engine='python', names=['UserID', 'Gender', 'Age', 'Occupation', 'Zip-code'])\n",
    "movies = pd.read_csv('../data/movies.dat', sep='::', engine='python', names=['MovieID', 'Title', 'Genres'], encoding='latin1')\n",
    "\n",
    "data = ratings.merge(users, on='UserID').merge(movies, on='MovieID')"
   ]
  },
  {
   "cell_type": "code",
   "execution_count": null,
   "metadata": {},
   "outputs": [],
   "source": []
  },
  {
   "cell_type": "markdown",
   "metadata": {},
   "source": [
    "### Data preprocessing\n",
    "\n",
    "We need to perform some data preprocessing to prepare context for models. The steps are: \n",
    "\n",
    "1. Extract the main genre for all films because each film can have sub-genre\n",
    "2. Create dummy variables for all categorical columns "
   ]
  },
  {
   "cell_type": "code",
   "execution_count": 5,
   "metadata": {},
   "outputs": [],
   "source": [
    "data['FirstGenre'] = data['Genres'].apply(lambda x: x.split('|')[0])\n",
    "data = pd.get_dummies(data, columns=['Occupation', 'Gender', 'FirstGenre'])"
   ]
  },
  {
   "cell_type": "code",
   "execution_count": 6,
   "metadata": {},
   "outputs": [],
   "source": [
    "data['genres_number'] = data['Genres'].apply(lambda x: len(x.split('|')))"
   ]
  },
  {
   "cell_type": "code",
   "execution_count": 7,
   "metadata": {},
   "outputs": [
    {
     "data": {
      "text/html": [
       "<div>\n",
       "<style scoped>\n",
       "    .dataframe tbody tr th:only-of-type {\n",
       "        vertical-align: middle;\n",
       "    }\n",
       "\n",
       "    .dataframe tbody tr th {\n",
       "        vertical-align: top;\n",
       "    }\n",
       "\n",
       "    .dataframe thead th {\n",
       "        text-align: right;\n",
       "    }\n",
       "</style>\n",
       "<table border=\"1\" class=\"dataframe\">\n",
       "  <thead>\n",
       "    <tr style=\"text-align: right;\">\n",
       "      <th></th>\n",
       "      <th>UserID</th>\n",
       "      <th>MovieID</th>\n",
       "      <th>Rating</th>\n",
       "      <th>Timestamp</th>\n",
       "      <th>Age</th>\n",
       "      <th>Zip-code</th>\n",
       "      <th>Title</th>\n",
       "      <th>Genres</th>\n",
       "      <th>Occupation_0</th>\n",
       "      <th>Occupation_1</th>\n",
       "      <th>...</th>\n",
       "      <th>FirstGenre_Film-Noir</th>\n",
       "      <th>FirstGenre_Horror</th>\n",
       "      <th>FirstGenre_Musical</th>\n",
       "      <th>FirstGenre_Mystery</th>\n",
       "      <th>FirstGenre_Romance</th>\n",
       "      <th>FirstGenre_Sci-Fi</th>\n",
       "      <th>FirstGenre_Thriller</th>\n",
       "      <th>FirstGenre_War</th>\n",
       "      <th>FirstGenre_Western</th>\n",
       "      <th>genres_number</th>\n",
       "    </tr>\n",
       "  </thead>\n",
       "  <tbody>\n",
       "    <tr>\n",
       "      <th>0</th>\n",
       "      <td>1</td>\n",
       "      <td>1193</td>\n",
       "      <td>5</td>\n",
       "      <td>978300760</td>\n",
       "      <td>1</td>\n",
       "      <td>48067</td>\n",
       "      <td>One Flew Over the Cuckoo's Nest (1975)</td>\n",
       "      <td>Drama</td>\n",
       "      <td>False</td>\n",
       "      <td>False</td>\n",
       "      <td>...</td>\n",
       "      <td>False</td>\n",
       "      <td>False</td>\n",
       "      <td>False</td>\n",
       "      <td>False</td>\n",
       "      <td>False</td>\n",
       "      <td>False</td>\n",
       "      <td>False</td>\n",
       "      <td>False</td>\n",
       "      <td>False</td>\n",
       "      <td>1</td>\n",
       "    </tr>\n",
       "  </tbody>\n",
       "</table>\n",
       "<p>1 rows × 50 columns</p>\n",
       "</div>"
      ],
      "text/plain": [
       "   UserID  MovieID  Rating  Timestamp  Age Zip-code  \\\n",
       "0       1     1193       5  978300760    1    48067   \n",
       "\n",
       "                                    Title Genres  Occupation_0  Occupation_1  \\\n",
       "0  One Flew Over the Cuckoo's Nest (1975)  Drama         False         False   \n",
       "\n",
       "   ...  FirstGenre_Film-Noir  FirstGenre_Horror  FirstGenre_Musical  \\\n",
       "0  ...                 False              False               False   \n",
       "\n",
       "   FirstGenre_Mystery  FirstGenre_Romance  FirstGenre_Sci-Fi  \\\n",
       "0               False               False              False   \n",
       "\n",
       "   FirstGenre_Thriller  FirstGenre_War  FirstGenre_Western  genres_number  \n",
       "0                False           False               False              1  \n",
       "\n",
       "[1 rows x 50 columns]"
      ]
     },
     "execution_count": 7,
     "metadata": {},
     "output_type": "execute_result"
    }
   ],
   "source": [
    "data.head(1)"
   ]
  },
  {
   "cell_type": "code",
   "execution_count": null,
   "metadata": {},
   "outputs": [],
   "source": []
  },
  {
   "cell_type": "markdown",
   "metadata": {},
   "source": [
    "### Training the first stage - candidates generation\n",
    "\n",
    "We need to narrow down the vast number of possible movies to a smaller set of potentially relevant items. To do this, we will use SVD and pick from all possible items highly-rated movies.  "
   ]
  },
  {
   "cell_type": "code",
   "execution_count": 9,
   "metadata": {},
   "outputs": [],
   "source": [
    "#convert our data into the format Surprise library expects\n",
    "reader = Reader(rating_scale=(1, 5))\n",
    "surprise_data = Dataset.load_from_df(data[['UserID', 'MovieID', 'Rating']], reader)"
   ]
  },
  {
   "cell_type": "code",
   "execution_count": 10,
   "metadata": {},
   "outputs": [],
   "source": [
    "trainset, testset = train_test_split(surprise_data, test_size=0.2)"
   ]
  },
  {
   "cell_type": "code",
   "execution_count": null,
   "metadata": {},
   "outputs": [],
   "source": []
  },
  {
   "cell_type": "markdown",
   "metadata": {},
   "source": [
    "Let's use GridSearch to search for the best input params for SVD"
   ]
  },
  {
   "cell_type": "code",
   "execution_count": 13,
   "metadata": {},
   "outputs": [],
   "source": [
    "param_grid = {\n",
    "  'n_factors': [20, 30, 40, 50, 60, 70, 80, 90, 100],\n",
    "  'n_epochs': [5, 10, 20, 30, 40, 50]\n",
    "}\n",
    " "
   ]
  },
  {
   "cell_type": "code",
   "execution_count": 16,
   "metadata": {},
   "outputs": [
    {
     "name": "stdout",
     "output_type": "stream",
     "text": [
      "0.8656169437820651\n",
      "{'n_factors': 50, 'n_epochs': 30}\n"
     ]
    }
   ],
   "source": [
    "gs = GridSearchCV(SVD, param_grid, measures=['rmse', 'mae'], cv=10)\n",
    "gs.fit(surprise_data)\n",
    " \n",
    "print(gs.best_score['rmse'])\n",
    "print(gs.best_params['rmse'])"
   ]
  },
  {
   "cell_type": "code",
   "execution_count": 17,
   "metadata": {},
   "outputs": [],
   "source": [
    "#initializing of SVD with the best params\n",
    "\n",
    "svd = SVD(n_factors=50, n_epochs=30)"
   ]
  },
  {
   "cell_type": "code",
   "execution_count": 18,
   "metadata": {},
   "outputs": [
    {
     "data": {
      "text/plain": [
       "<surprise.prediction_algorithms.matrix_factorization.SVD at 0x21112a52d60>"
      ]
     },
     "execution_count": 18,
     "metadata": {},
     "output_type": "execute_result"
    }
   ],
   "source": [
    "svd.fit(trainset)"
   ]
  },
  {
   "cell_type": "markdown",
   "metadata": {},
   "source": [
    "Now, let's check the performance of SVD on our dataset. RMSE threshold for model choosing is 1.5 (this was our FunkSVD result from previous homework)."
   ]
  },
  {
   "cell_type": "code",
   "execution_count": 46,
   "metadata": {},
   "outputs": [
    {
     "name": "stdout",
     "output_type": "stream",
     "text": [
      "Evaluating RMSE, MAE of algorithm SVD on 5 split(s).\n",
      "\n",
      "                  Fold 1  Fold 2  Fold 3  Fold 4  Fold 5  Mean    Std     \n",
      "RMSE (testset)    0.8736  0.8744  0.8754  0.8744  0.8744  0.8744  0.0006  \n",
      "MAE (testset)     0.6824  0.6845  0.6842  0.6836  0.6838  0.6837  0.0007  \n",
      "Fit time          12.40   11.67   12.50   13.18   13.60   12.67   0.67    \n",
      "Test time         0.98    0.83    0.89    1.97    0.87    1.11    0.43    \n"
     ]
    }
   ],
   "source": [
    "results = cross_validate(svd, surprise_data, measures=['RMSE', 'MAE'], cv=5, verbose=True)"
   ]
  },
  {
   "cell_type": "markdown",
   "metadata": {},
   "source": [
    "Mean RMSE equals less than the threshold, so we can proceed with this model.  "
   ]
  },
  {
   "cell_type": "code",
   "execution_count": null,
   "metadata": {},
   "outputs": [],
   "source": []
  },
  {
   "cell_type": "markdown",
   "metadata": {},
   "source": [
    "### Training the second stage - ranking of the candidates \n",
    "\n",
    "Now, we need to train a more powerful model to rank the candidate movies in order to generate the final set of recommendations. We will try GradientBoosting() from sklearn because of good train time / quality ratio. "
   ]
  },
  {
   "cell_type": "markdown",
   "metadata": {},
   "source": [
    "We will use the predictions from the first stage as a feature in the second stage model. "
   ]
  },
  {
   "cell_type": "code",
   "execution_count": 19,
   "metadata": {},
   "outputs": [],
   "source": [
    "ranking_data = []\n",
    "indices = []"
   ]
  },
  {
   "cell_type": "code",
   "execution_count": 20,
   "metadata": {},
   "outputs": [],
   "source": [
    "#let's prepare X and y inputs for the GradientBoosting() model \n",
    "\n",
    "for idx, row in data.iterrows():\n",
    "    user_id = row['UserID']\n",
    "    movie_id = row['MovieID']\n",
    "    \n",
    "    #the trained SVD model predicts ratings for all user-item pairs\n",
    "    pred = svd.predict(user_id, movie_id)\n",
    "    \n",
    "    features = [\n",
    "        pred.est,\n",
    "        row['Age'],\n",
    "        row['Gender_M'],\n",
    "        row['Occupation_0'],\n",
    "        row['Occupation_1'],\n",
    "        row['Occupation_2'],\n",
    "        row['Occupation_3'],\n",
    "        row['Occupation_4'],\n",
    "        row['Occupation_5'],\n",
    "        row['Occupation_6'],\n",
    "        row['Occupation_7'],\n",
    "        row['Occupation_8'],\n",
    "        row['Occupation_9'],\n",
    "        row['Occupation_10'],\n",
    "        row['Occupation_11'],\n",
    "        row['Occupation_12'],\n",
    "        row['Occupation_13'],\n",
    "        row['Occupation_14'],\n",
    "        row['Occupation_15'],\n",
    "        row['Occupation_16'],\n",
    "        row['Occupation_17'],\n",
    "        row['Occupation_18'],\n",
    "        row['Occupation_19'],\n",
    "        row['Occupation_20'],\n",
    "        row['FirstGenre_Action'],\n",
    "        row['FirstGenre_Adventure'], \n",
    "        row['FirstGenre_Animation'],\n",
    "        row[\"FirstGenre_Children's\"], \n",
    "        row['FirstGenre_Comedy'], \n",
    "        row['FirstGenre_Crime'],\n",
    "        row['FirstGenre_Documentary'], \n",
    "        row['FirstGenre_Drama'], \n",
    "        row['FirstGenre_Fantasy'],\n",
    "        row['FirstGenre_Film-Noir'], \n",
    "        row['FirstGenre_Horror'], \n",
    "        row['FirstGenre_Musical'],\n",
    "        row['FirstGenre_Mystery'], \n",
    "        row['FirstGenre_Romance'], \n",
    "        row['FirstGenre_Sci-Fi'],\n",
    "        row['FirstGenre_Thriller'], \n",
    "        row['FirstGenre_War'], \n",
    "        row['FirstGenre_Western'],\n",
    "        row['genres_number']\n",
    "    ]\n",
    "    \n",
    "    #we will think of 4, 5 as good ratings\n",
    "    label = 1 if row['Rating'] >= 4 else 0\n",
    "    \n",
    "\n",
    "    ranking_data.append((features, label))\n",
    "    indices.append(idx) "
   ]
  },
  {
   "cell_type": "code",
   "execution_count": 21,
   "metadata": {},
   "outputs": [],
   "source": [
    "X, y = zip(*ranking_data)\n",
    "X, y = np.array(X), np.array(y)\n",
    "indices = np.array(indices)"
   ]
  },
  {
   "cell_type": "code",
   "execution_count": null,
   "metadata": {},
   "outputs": [],
   "source": []
  },
  {
   "cell_type": "code",
   "execution_count": 22,
   "metadata": {},
   "outputs": [],
   "source": [
    "X_train, X_test, y_train, y_test, indices_train, indices_test = train_test_split_sklearn(\n",
    "    X, y, indices, test_size=0.2, random_state=42\n",
    ")"
   ]
  },
  {
   "cell_type": "code",
   "execution_count": null,
   "metadata": {},
   "outputs": [],
   "source": []
  },
  {
   "cell_type": "markdown",
   "metadata": {},
   "source": [
    "Let's train the second stage model:"
   ]
  },
  {
   "cell_type": "code",
   "execution_count": 24,
   "metadata": {},
   "outputs": [
    {
     "data": {
      "text/html": [
       "<style>#sk-container-id-1 {color: black;}#sk-container-id-1 pre{padding: 0;}#sk-container-id-1 div.sk-toggleable {background-color: white;}#sk-container-id-1 label.sk-toggleable__label {cursor: pointer;display: block;width: 100%;margin-bottom: 0;padding: 0.3em;box-sizing: border-box;text-align: center;}#sk-container-id-1 label.sk-toggleable__label-arrow:before {content: \"▸\";float: left;margin-right: 0.25em;color: #696969;}#sk-container-id-1 label.sk-toggleable__label-arrow:hover:before {color: black;}#sk-container-id-1 div.sk-estimator:hover label.sk-toggleable__label-arrow:before {color: black;}#sk-container-id-1 div.sk-toggleable__content {max-height: 0;max-width: 0;overflow: hidden;text-align: left;background-color: #f0f8ff;}#sk-container-id-1 div.sk-toggleable__content pre {margin: 0.2em;color: black;border-radius: 0.25em;background-color: #f0f8ff;}#sk-container-id-1 input.sk-toggleable__control:checked~div.sk-toggleable__content {max-height: 200px;max-width: 100%;overflow: auto;}#sk-container-id-1 input.sk-toggleable__control:checked~label.sk-toggleable__label-arrow:before {content: \"▾\";}#sk-container-id-1 div.sk-estimator input.sk-toggleable__control:checked~label.sk-toggleable__label {background-color: #d4ebff;}#sk-container-id-1 div.sk-label input.sk-toggleable__control:checked~label.sk-toggleable__label {background-color: #d4ebff;}#sk-container-id-1 input.sk-hidden--visually {border: 0;clip: rect(1px 1px 1px 1px);clip: rect(1px, 1px, 1px, 1px);height: 1px;margin: -1px;overflow: hidden;padding: 0;position: absolute;width: 1px;}#sk-container-id-1 div.sk-estimator {font-family: monospace;background-color: #f0f8ff;border: 1px dotted black;border-radius: 0.25em;box-sizing: border-box;margin-bottom: 0.5em;}#sk-container-id-1 div.sk-estimator:hover {background-color: #d4ebff;}#sk-container-id-1 div.sk-parallel-item::after {content: \"\";width: 100%;border-bottom: 1px solid gray;flex-grow: 1;}#sk-container-id-1 div.sk-label:hover label.sk-toggleable__label {background-color: #d4ebff;}#sk-container-id-1 div.sk-serial::before {content: \"\";position: absolute;border-left: 1px solid gray;box-sizing: border-box;top: 0;bottom: 0;left: 50%;z-index: 0;}#sk-container-id-1 div.sk-serial {display: flex;flex-direction: column;align-items: center;background-color: white;padding-right: 0.2em;padding-left: 0.2em;position: relative;}#sk-container-id-1 div.sk-item {position: relative;z-index: 1;}#sk-container-id-1 div.sk-parallel {display: flex;align-items: stretch;justify-content: center;background-color: white;position: relative;}#sk-container-id-1 div.sk-item::before, #sk-container-id-1 div.sk-parallel-item::before {content: \"\";position: absolute;border-left: 1px solid gray;box-sizing: border-box;top: 0;bottom: 0;left: 50%;z-index: -1;}#sk-container-id-1 div.sk-parallel-item {display: flex;flex-direction: column;z-index: 1;position: relative;background-color: white;}#sk-container-id-1 div.sk-parallel-item:first-child::after {align-self: flex-end;width: 50%;}#sk-container-id-1 div.sk-parallel-item:last-child::after {align-self: flex-start;width: 50%;}#sk-container-id-1 div.sk-parallel-item:only-child::after {width: 0;}#sk-container-id-1 div.sk-dashed-wrapped {border: 1px dashed gray;margin: 0 0.4em 0.5em 0.4em;box-sizing: border-box;padding-bottom: 0.4em;background-color: white;}#sk-container-id-1 div.sk-label label {font-family: monospace;font-weight: bold;display: inline-block;line-height: 1.2em;}#sk-container-id-1 div.sk-label-container {text-align: center;}#sk-container-id-1 div.sk-container {/* jupyter's `normalize.less` sets `[hidden] { display: none; }` but bootstrap.min.css set `[hidden] { display: none !important; }` so we also need the `!important` here to be able to override the default hidden behavior on the sphinx rendered scikit-learn.org. See: https://github.com/scikit-learn/scikit-learn/issues/21755 */display: inline-block !important;position: relative;}#sk-container-id-1 div.sk-text-repr-fallback {display: none;}</style><div id=\"sk-container-id-1\" class=\"sk-top-container\"><div class=\"sk-text-repr-fallback\"><pre>GradientBoostingClassifier()</pre><b>In a Jupyter environment, please rerun this cell to show the HTML representation or trust the notebook. <br />On GitHub, the HTML representation is unable to render, please try loading this page with nbviewer.org.</b></div><div class=\"sk-container\" hidden><div class=\"sk-item\"><div class=\"sk-estimator sk-toggleable\"><input class=\"sk-toggleable__control sk-hidden--visually\" id=\"sk-estimator-id-1\" type=\"checkbox\" checked><label for=\"sk-estimator-id-1\" class=\"sk-toggleable__label sk-toggleable__label-arrow\">GradientBoostingClassifier</label><div class=\"sk-toggleable__content\"><pre>GradientBoostingClassifier()</pre></div></div></div></div></div>"
      ],
      "text/plain": [
       "GradientBoostingClassifier()"
      ]
     },
     "execution_count": 24,
     "metadata": {},
     "output_type": "execute_result"
    }
   ],
   "source": [
    "ranking_model = GradientBoostingClassifier()\n",
    "ranking_model.fit(X_train, y_train)"
   ]
  },
  {
   "cell_type": "code",
   "execution_count": null,
   "metadata": {},
   "outputs": [],
   "source": []
  },
  {
   "cell_type": "markdown",
   "metadata": {},
   "source": [
    "### Evaluation \n",
    "\n",
    "We are ready to test the model's results using our evaluation framework"
   ]
  },
  {
   "cell_type": "code",
   "execution_count": 38,
   "metadata": {},
   "outputs": [],
   "source": [
    "y_pred = ranking_model.predict_proba(X_test)[:, 1]   #we extract probabilities for the positive class (likelihood of liking the movie)\n"
   ]
  },
  {
   "cell_type": "code",
   "execution_count": 46,
   "metadata": {},
   "outputs": [],
   "source": [
    "ranked_pred_df = pd.DataFrame({\n",
    "    'UserID': data.loc[indices_test, 'UserID'].values,\n",
    "    'MovieID': data.loc[indices_test, 'MovieID'].values,\n",
    "    'Rating': y_pred\n",
    "})"
   ]
  },
  {
   "cell_type": "code",
   "execution_count": 48,
   "metadata": {},
   "outputs": [],
   "source": [
    "pred_matrix = to_user_movie_matrix(ranked_pred_df)"
   ]
  },
  {
   "cell_type": "code",
   "execution_count": null,
   "metadata": {},
   "outputs": [],
   "source": []
  },
  {
   "cell_type": "code",
   "execution_count": 60,
   "metadata": {},
   "outputs": [
    {
     "name": "stdout",
     "output_type": "stream",
     "text": [
      "Two-stage MAP: 0.6889973280868418\n",
      "Two-stage MRR: 0.9665626125664224\n",
      "Two-stage NDCG: 0.8749891741359047\n"
     ]
    }
   ],
   "source": [
    "map_score_value = map_score(pred_matrix, to_user_movie_matrix(data.loc[indices_test, ['UserID', 'MovieID', 'Rating']]), top=20)\n",
    "mrr_score_value = mrr_score(pred_matrix, to_user_movie_matrix(data.loc[indices_test, ['UserID', 'MovieID', 'Rating']]), top=20)\n",
    "ndcg_score_value = ndcg_score(pred_matrix, to_user_movie_matrix(data.loc[indices_test, ['UserID', 'MovieID', 'Rating']]), top=20)\n",
    "\n",
    "print(f'Two-stage MAP: {map_score_value}')\n",
    "print(f'Two-stage MRR: {mrr_score_value}')\n",
    "print(f'Two-stage NDCG: {ndcg_score_value}')"
   ]
  },
  {
   "cell_type": "markdown",
   "metadata": {},
   "source": [
    "A MAP of 0.689 indicates a high mean precision of the algorithm when averaged over all queries. This suggests that, on average, the precision of the recommended items is nearly 69%. It is our one of the best results across all approaches tried. \n",
    "\n",
    "An MRR of 0.967 reflects very high precision, indicating that relevant items are, on average, ranked very close to the top of the recommendation list. This value suggests that the first relevant item is often found in the first or second position in the ranking, showing strong performance in placing relevant items early in the recommendation list.\n",
    "\n",
    "NDCG evaluates the quality of the ranking by considering the position of relevant items. An NDCG of 0.875 suggests that the overall ranking of relevant items is highly effective, with most relevant items placed near the top of the ranked list."
   ]
  },
  {
   "cell_type": "code",
   "execution_count": null,
   "metadata": {},
   "outputs": [],
   "source": []
  },
  {
   "cell_type": "markdown",
   "metadata": {},
   "source": [
    "### The pipeline  \n",
    "\n",
    "When the first and second srage models are trained, we can illustrate the recommendation pipeline for a random user from the test dataset.  "
   ]
  },
  {
   "cell_type": "markdown",
   "metadata": {},
   "source": [
    "The steps are as follows: \n",
    "\n",
    "**Step 1: select a user**\n",
    "\n",
    "**Step 2: generate initial candidate recommendations using the SVD model**\n",
    "We use the trained SVD model to predict ratings for all movies that the selected user has not yet rated. Then, we select the top-N movies with the highest predicted ratings as initial candidates.\n",
    "\n",
    "**Step 3: re-rank the candidates using the GradientBoosting model**\n",
    "For each of the top-N candidate movies, we create feature vectors that include the predicted rating from the SVD model and other relevant features (like user demographics and movie attributes). Then, we use the trained GradientBoosting model to predict a ranking score for each candidate.\n",
    "\n",
    "**Step 4: display the final recommendations**\n",
    "We sort the candidate movies by the ranking score generated by the GradientBoosting model and display the top-ranked movies as the final recommendations for the user."
   ]
  },
  {
   "cell_type": "code",
   "execution_count": 77,
   "metadata": {},
   "outputs": [],
   "source": [
    "#Step 1\n",
    "\n",
    "random_user_id = random.choice(data.loc[indices_test, 'UserID'].values)"
   ]
  },
  {
   "cell_type": "code",
   "execution_count": 78,
   "metadata": {},
   "outputs": [],
   "source": [
    "#Step 2\n",
    "top_n = 20\n",
    "\n",
    "\n",
    "#select unseen movies\n",
    "movie_ids = data.loc[indices_test, 'MovieID'].unique()\n",
    "user_rated_movies = data[data['UserID'] == random_user_id]['MovieID']\n",
    "unseen_movies = np.setdiff1d(movie_ids, user_rated_movies)\n",
    "\n",
    "#SVD predictions \n",
    "predictions = [svd.predict(random_user_id, movie_id) for movie_id in unseen_movies]\n",
    "top_candidates = sorted(predictions, key=lambda x: x.est, reverse=True)[:top_n]  # Top-N candidates"
   ]
  },
  {
   "cell_type": "code",
   "execution_count": 85,
   "metadata": {},
   "outputs": [],
   "source": [
    "#Step 3\n",
    "\n",
    "ranking_data = []\n",
    "\n",
    "for pred in top_candidates:\n",
    "    movie_id = pred.iid\n",
    "    predicted_rating = pred.est\n",
    "    \n",
    "    \n",
    "    user_info = data[data['UserID'] == random_user_id].iloc[0]\n",
    "    movie_info = data[data['MovieID'] == movie_id].iloc[0]\n",
    "    \n",
    "    features = [\n",
    "        predicted_rating,\n",
    "        user_info['Age'],\n",
    "        user_info['Gender_M'],\n",
    "        user_info['Occupation_0'],\n",
    "        user_info['Occupation_1'],\n",
    "        user_info['Occupation_2'],\n",
    "        user_info['Occupation_3'],\n",
    "        user_info['Occupation_4'],\n",
    "        user_info['Occupation_5'],\n",
    "        user_info['Occupation_6'],\n",
    "        user_info['Occupation_7'],\n",
    "        user_info['Occupation_8'],\n",
    "        user_info['Occupation_9'],\n",
    "        user_info['Occupation_10'],\n",
    "        user_info['Occupation_11'],\n",
    "        user_info['Occupation_12'],\n",
    "        user_info['Occupation_13'],\n",
    "        user_info['Occupation_14'],\n",
    "        user_info['Occupation_15'],\n",
    "        user_info['Occupation_16'],\n",
    "        user_info['Occupation_17'],\n",
    "        user_info['Occupation_18'],\n",
    "        user_info['Occupation_19'],\n",
    "        user_info['Occupation_20'],\n",
    "        movie_info['FirstGenre_Action'],\n",
    "        movie_info['FirstGenre_Adventure'], \n",
    "        movie_info['FirstGenre_Animation'],\n",
    "        movie_info[\"FirstGenre_Children's\"], \n",
    "        movie_info['FirstGenre_Comedy'], \n",
    "        movie_info['FirstGenre_Crime'],\n",
    "        movie_info['FirstGenre_Documentary'], \n",
    "        movie_info['FirstGenre_Drama'], \n",
    "        movie_info['FirstGenre_Fantasy'],\n",
    "        movie_info['FirstGenre_Film-Noir'], \n",
    "        movie_info['FirstGenre_Horror'], \n",
    "        movie_info['FirstGenre_Musical'],\n",
    "        movie_info['FirstGenre_Mystery'], \n",
    "        movie_info['FirstGenre_Romance'], \n",
    "        movie_info['FirstGenre_Sci-Fi'],\n",
    "        movie_info['FirstGenre_Thriller'], \n",
    "        movie_info['FirstGenre_War'], \n",
    "        movie_info['FirstGenre_Western'],\n",
    "        movie_info['genres_number']\n",
    "    ]\n",
    "    \n",
    "    ranking_data.append(features)\n",
    "\n",
    "    ranking_scores = ranking_model.predict_proba(ranking_data)[:, 1]\n",
    "\n",
    "    #Let's combine the ranking scores with the movie IDs\n",
    "ranked_candidates = [(top_candidates[i].iid, ranking_scores[i]) for i in range(len(top_candidates))]"
   ]
  },
  {
   "cell_type": "code",
   "execution_count": 88,
   "metadata": {},
   "outputs": [],
   "source": [
    "#Step 4\n",
    "\n",
    "ranked_candidates = sorted(ranked_candidates, key=lambda x: x[1], reverse=True)\n",
    "final_recommendations = [movie_id for movie_id, score in ranked_candidates]"
   ]
  },
  {
   "cell_type": "code",
   "execution_count": null,
   "metadata": {},
   "outputs": [],
   "source": [
    "#Let's show the movie titles and genres for display\n",
    "\n",
    "recommended_movies = movies[movies['MovieID'].isin(final_recommendations)]"
   ]
  },
  {
   "cell_type": "code",
   "execution_count": 106,
   "metadata": {},
   "outputs": [
    {
     "name": "stdout",
     "output_type": "stream",
     "text": [
      "Top recommendations for user 1468:\n"
     ]
    },
    {
     "data": {
      "text/html": [
       "<div>\n",
       "<style scoped>\n",
       "    .dataframe tbody tr th:only-of-type {\n",
       "        vertical-align: middle;\n",
       "    }\n",
       "\n",
       "    .dataframe tbody tr th {\n",
       "        vertical-align: top;\n",
       "    }\n",
       "\n",
       "    .dataframe thead th {\n",
       "        text-align: right;\n",
       "    }\n",
       "</style>\n",
       "<table border=\"1\" class=\"dataframe\">\n",
       "  <thead>\n",
       "    <tr style=\"text-align: right;\">\n",
       "      <th></th>\n",
       "      <th>Title</th>\n",
       "      <th>Genres</th>\n",
       "    </tr>\n",
       "  </thead>\n",
       "  <tbody>\n",
       "    <tr>\n",
       "      <th>476</th>\n",
       "      <td>Jurassic Park (1993)</td>\n",
       "      <td>Action|Adventure|Sci-Fi</td>\n",
       "    </tr>\n",
       "    <tr>\n",
       "      <th>589</th>\n",
       "      <td>Silence of the Lambs, The (1991)</td>\n",
       "      <td>Drama|Thriller</td>\n",
       "    </tr>\n",
       "    <tr>\n",
       "      <th>735</th>\n",
       "      <td>Close Shave, A (1995)</td>\n",
       "      <td>Animation|Comedy|Thriller</td>\n",
       "    </tr>\n",
       "    <tr>\n",
       "      <th>740</th>\n",
       "      <td>Dr. Strangelove or: How I Learned to Stop Worr...</td>\n",
       "      <td>Sci-Fi|War</td>\n",
       "    </tr>\n",
       "    <tr>\n",
       "      <th>898</th>\n",
       "      <td>Some Like It Hot (1959)</td>\n",
       "      <td>Comedy|Crime</td>\n",
       "    </tr>\n",
       "    <tr>\n",
       "      <th>907</th>\n",
       "      <td>Wizard of Oz, The (1939)</td>\n",
       "      <td>Adventure|Children's|Drama|Musical</td>\n",
       "    </tr>\n",
       "    <tr>\n",
       "      <th>910</th>\n",
       "      <td>Sunset Blvd. (a.k.a. Sunset Boulevard) (1950)</td>\n",
       "      <td>Film-Noir</td>\n",
       "    </tr>\n",
       "    <tr>\n",
       "      <th>911</th>\n",
       "      <td>Citizen Kane (1941)</td>\n",
       "      <td>Drama</td>\n",
       "    </tr>\n",
       "    <tr>\n",
       "      <th>1022</th>\n",
       "      <td>Sound of Music, The (1965)</td>\n",
       "      <td>Musical</td>\n",
       "    </tr>\n",
       "    <tr>\n",
       "      <th>1081</th>\n",
       "      <td>E.T. the Extra-Terrestrial (1982)</td>\n",
       "      <td>Children's|Drama|Fantasy|Sci-Fi</td>\n",
       "    </tr>\n",
       "  </tbody>\n",
       "</table>\n",
       "</div>"
      ],
      "text/plain": [
       "                                                  Title  \\\n",
       "476                                Jurassic Park (1993)   \n",
       "589                    Silence of the Lambs, The (1991)   \n",
       "735                               Close Shave, A (1995)   \n",
       "740   Dr. Strangelove or: How I Learned to Stop Worr...   \n",
       "898                             Some Like It Hot (1959)   \n",
       "907                            Wizard of Oz, The (1939)   \n",
       "910       Sunset Blvd. (a.k.a. Sunset Boulevard) (1950)   \n",
       "911                                 Citizen Kane (1941)   \n",
       "1022                         Sound of Music, The (1965)   \n",
       "1081                  E.T. the Extra-Terrestrial (1982)   \n",
       "\n",
       "                                  Genres  \n",
       "476              Action|Adventure|Sci-Fi  \n",
       "589                       Drama|Thriller  \n",
       "735            Animation|Comedy|Thriller  \n",
       "740                           Sci-Fi|War  \n",
       "898                         Comedy|Crime  \n",
       "907   Adventure|Children's|Drama|Musical  \n",
       "910                            Film-Noir  \n",
       "911                                Drama  \n",
       "1022                             Musical  \n",
       "1081     Children's|Drama|Fantasy|Sci-Fi  "
      ]
     },
     "execution_count": 106,
     "metadata": {},
     "output_type": "execute_result"
    }
   ],
   "source": [
    "print(f\"Top recommendations for user {random_user_id}:\")\n",
    "recommended_movies[['Title', 'Genres']].head(10)"
   ]
  },
  {
   "cell_type": "code",
   "execution_count": 107,
   "metadata": {},
   "outputs": [
    {
     "data": {
      "text/html": [
       "<div>\n",
       "<style scoped>\n",
       "    .dataframe tbody tr th:only-of-type {\n",
       "        vertical-align: middle;\n",
       "    }\n",
       "\n",
       "    .dataframe tbody tr th {\n",
       "        vertical-align: top;\n",
       "    }\n",
       "\n",
       "    .dataframe thead th {\n",
       "        text-align: right;\n",
       "    }\n",
       "</style>\n",
       "<table border=\"1\" class=\"dataframe\">\n",
       "  <thead>\n",
       "    <tr style=\"text-align: right;\">\n",
       "      <th></th>\n",
       "      <th>Title</th>\n",
       "      <th>Genres</th>\n",
       "      <th>Rating</th>\n",
       "    </tr>\n",
       "  </thead>\n",
       "  <tbody>\n",
       "    <tr>\n",
       "      <th>47470</th>\n",
       "      <td>Star Wars: Episode IV - A New Hope (1977)</td>\n",
       "      <td>Action|Adventure|Fantasy|Sci-Fi</td>\n",
       "      <td>5</td>\n",
       "    </tr>\n",
       "    <tr>\n",
       "      <th>160388</th>\n",
       "      <td>Fugitive, The (1993)</td>\n",
       "      <td>Action|Thriller</td>\n",
       "      <td>5</td>\n",
       "    </tr>\n",
       "    <tr>\n",
       "      <th>134011</th>\n",
       "      <td>Raiders of the Lost Ark (1981)</td>\n",
       "      <td>Action|Adventure</td>\n",
       "      <td>5</td>\n",
       "    </tr>\n",
       "    <tr>\n",
       "      <th>141046</th>\n",
       "      <td>Matrix, The (1999)</td>\n",
       "      <td>Action|Sci-Fi|Thriller</td>\n",
       "      <td>5</td>\n",
       "    </tr>\n",
       "    <tr>\n",
       "      <th>489506</th>\n",
       "      <td>Godfather, The (1972)</td>\n",
       "      <td>Action|Crime|Drama</td>\n",
       "      <td>5</td>\n",
       "    </tr>\n",
       "    <tr>\n",
       "      <th>149712</th>\n",
       "      <td>Rocky (1976)</td>\n",
       "      <td>Action|Drama</td>\n",
       "      <td>5</td>\n",
       "    </tr>\n",
       "    <tr>\n",
       "      <th>155088</th>\n",
       "      <td>Die Hard: With a Vengeance (1995)</td>\n",
       "      <td>Action|Thriller</td>\n",
       "      <td>5</td>\n",
       "    </tr>\n",
       "    <tr>\n",
       "      <th>416827</th>\n",
       "      <td>Boat, The (Das Boot) (1981)</td>\n",
       "      <td>Action|Drama|War</td>\n",
       "      <td>5</td>\n",
       "    </tr>\n",
       "    <tr>\n",
       "      <th>350083</th>\n",
       "      <td>Face/Off (1997)</td>\n",
       "      <td>Action|Sci-Fi|Thriller</td>\n",
       "      <td>5</td>\n",
       "    </tr>\n",
       "    <tr>\n",
       "      <th>129073</th>\n",
       "      <td>Star Wars: Episode V - The Empire Strikes Back...</td>\n",
       "      <td>Action|Adventure|Drama|Sci-Fi|War</td>\n",
       "      <td>5</td>\n",
       "    </tr>\n",
       "  </tbody>\n",
       "</table>\n",
       "</div>"
      ],
      "text/plain": [
       "                                                    Title  \\\n",
       "47470           Star Wars: Episode IV - A New Hope (1977)   \n",
       "160388                               Fugitive, The (1993)   \n",
       "134011                     Raiders of the Lost Ark (1981)   \n",
       "141046                                 Matrix, The (1999)   \n",
       "489506                              Godfather, The (1972)   \n",
       "149712                                       Rocky (1976)   \n",
       "155088                  Die Hard: With a Vengeance (1995)   \n",
       "416827                        Boat, The (Das Boot) (1981)   \n",
       "350083                                    Face/Off (1997)   \n",
       "129073  Star Wars: Episode V - The Empire Strikes Back...   \n",
       "\n",
       "                                   Genres  Rating  \n",
       "47470     Action|Adventure|Fantasy|Sci-Fi       5  \n",
       "160388                    Action|Thriller       5  \n",
       "134011                   Action|Adventure       5  \n",
       "141046             Action|Sci-Fi|Thriller       5  \n",
       "489506                 Action|Crime|Drama       5  \n",
       "149712                       Action|Drama       5  \n",
       "155088                    Action|Thriller       5  \n",
       "416827                   Action|Drama|War       5  \n",
       "350083             Action|Sci-Fi|Thriller       5  \n",
       "129073  Action|Adventure|Drama|Sci-Fi|War       5  "
      ]
     },
     "execution_count": 107,
     "metadata": {},
     "output_type": "execute_result"
    }
   ],
   "source": [
    "#watched and rated movies\n",
    "\n",
    "data[data['UserID'] == random_user_id].sort_values(['Rating'], ascending = False).head(10).loc[:, ['Title', 'Genres', 'Rating']]"
   ]
  },
  {
   "cell_type": "markdown",
   "metadata": {},
   "source": [
    "The user's watched and rated movies heavily feature action, adventure, and sci-fi genres. The recommended movies like Jurassic Park, E.T. the Extra-Terrestrial, and Wizard of Oz align well with these genres, indicating a good match in terms of genre preferences. \n",
    "\n",
    "Both the recommended and rated movies include classic and highly rated films, suggesting that the user appreciates iconic movies. Recommendations like Citizen Kane and Sound of Music fall into this category.\n",
    "\n",
    "We can conclude that the recommendation seem well-aligned with the user's historical preferences."
   ]
  },
  {
   "cell_type": "code",
   "execution_count": null,
   "metadata": {},
   "outputs": [],
   "source": []
  },
  {
   "cell_type": "markdown",
   "metadata": {},
   "source": [
    "### Summary "
   ]
  },
  {
   "cell_type": "markdown",
   "metadata": {},
   "source": [
    "In this task, we have developed a two-stage recommendation system, which included user ratings, demographic information, and movie metadata. \n",
    "\n",
    "The two-stage approach involved:\n",
    "\n",
    "1. Candidate generation: we used SVD algorithm from the scikit-surprise library to generate an initial list of candidate movies for each user. This stage focused on reducing the large set of possible recommendations to a manageable number by predicting ratings for all user-movie pairs and selecting the top-N candidates (20 candidates in our case).\n",
    "2. Ranking: the candidates generated in the first stage were then re-ranked using a Gradient Boosting Classifier. This model took into account additional features such as user demographics, movie genres, and the initial predicted ratings from the SVD model. The goal of this stage was to fine-tune the recommendations by considering more granular factors that influence user preferences.\n",
    "\n",
    "The performance of the developed system was evaluated using three key metrics: Mean Average Precision (MAP), Mean Reciprocal Rank (MRR), and Normalized Discounted Cumulative Gain (NDCG). \n",
    "\n",
    "The results showed high scores across all three metrics, indicating that the system was effective in providing relevant and well-ranked recommendations.\n",
    "* Two-stage MAP: 0.6889973280868418\n",
    "* Two-stage MRR: 0.9665626125664224\n",
    "* Two-stage NDCG: 0.8749891741359047"
   ]
  },
  {
   "cell_type": "markdown",
   "metadata": {},
   "source": [
    "Benefits of the system: \n",
    "* It is scalable. By first narrowing down the potential candidates from a large set of items, the two-stage approach ensures that the more computationally intensive ranking stage is applied only to a smaller, relevant subset. This makes the system more scalable in production.\n",
    "* The two-stage approach allows for flexibility in model selection and feature engineering. Different algorithms can be used for candidate generation and ranking, which can be fine-tuned independently to optimize the overall recommendation quality.\n",
    "* Improved recommendation quality: by combining the strengths of collaborative filtering (in candidate generation) with additional context-aware features (in ranking), the two-stage approach often results in more personalized and accurate recommendations."
   ]
  },
  {
   "cell_type": "markdown",
   "metadata": {},
   "source": [
    "Drawbacks: \n",
    "* It doesn't fully solve the cold start problem. For new users or items with limited data, the system may struggle to make accurate initial selections in the first stage.\n",
    "* Mistakes or biases in the first stage can propagate and amplify in the second stage, potentially leading to suboptimal final recommendations.\n",
    "* Difficulty in real-time updates: incorporating new user behavior or item information in real-time across both stages can be challenging.\n",
    "* Implementing and maintaining a two-stage system is more complex than using a single-stage model. It requires careful integration of different algorithms and may involve additional computational overhead."
   ]
  }
 ],
 "metadata": {
  "kernelspec": {
   "display_name": "ucu_env",
   "language": "python",
   "name": "ucu_env"
  },
  "language_info": {
   "codemirror_mode": {
    "name": "ipython",
    "version": 3
   },
   "file_extension": ".py",
   "mimetype": "text/x-python",
   "name": "python",
   "nbconvert_exporter": "python",
   "pygments_lexer": "ipython3",
   "version": "3.9.7"
  }
 },
 "nbformat": 4,
 "nbformat_minor": 2
}
