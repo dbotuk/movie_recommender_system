{
 "cells": [
  {
   "cell_type": "code",
   "execution_count": 1,
   "id": "initial_id",
   "metadata": {
    "collapsed": true,
    "ExecuteTime": {
     "end_time": "2024-06-11T19:57:17.519333Z",
     "start_time": "2024-06-11T19:57:17.161085Z"
    }
   },
   "outputs": [],
   "source": [
    "import pandas as pd\n",
    "\n",
    "from src.metrics import map_score, mrr_score, ndcg_score, rmse_score\n",
    "from src.models.mean_rating_baseline import MeanRatingRecommender\n",
    "from src.utils import train_test_split"
   ]
  },
  {
   "cell_type": "code",
   "outputs": [],
   "source": [
    "ratings = pd.read_table(\"../data/ratings.dat\", sep=\"::\", names=['UserID', 'MovieID', 'Rating', 'Timestamp'], engine='python')\n",
    "ratings['Timestamp'] = pd.to_datetime(ratings['Timestamp'], unit='s')\n",
    "\n",
    "train_ratings, test_ratings = train_test_split(ratings, 'Timestamp')"
   ],
   "metadata": {
    "collapsed": false,
    "ExecuteTime": {
     "end_time": "2024-06-11T19:57:20.385190Z",
     "start_time": "2024-06-11T19:57:17.520394Z"
    }
   },
   "id": "607df2fa7103d668",
   "execution_count": 2
  },
  {
   "cell_type": "code",
   "outputs": [],
   "source": [
    "baseline = MeanRatingRecommender()\n",
    "baseline.train(train_ratings)\n",
    "\n",
    "users_test = test_ratings.get_rating_matrix().columns\n",
    "y_pred = baseline.predict(users_test)"
   ],
   "metadata": {
    "collapsed": false,
    "ExecuteTime": {
     "end_time": "2024-06-11T19:57:20.507629Z",
     "start_time": "2024-06-11T19:57:20.385909Z"
    }
   },
   "id": "c682e23030484088",
   "execution_count": 3
  },
  {
   "cell_type": "code",
   "outputs": [
    {
     "name": "stdout",
     "output_type": "stream",
     "text": [
      "Baseline MAP: 0.01045348193833639\n",
      "Baseline MRR: 0.14809692261122365\n",
      "Baseline NDCG: 0.023519293463226947\n",
      "Baseline RMSE: 486.64811481202804\n"
     ]
    }
   ],
   "source": [
    "map_score_value = map_score(test_ratings, y_pred, top=50)\n",
    "mrr_score_value = mrr_score(test_ratings, y_pred, top=50)\n",
    "ndcg_score_value = ndcg_score(test_ratings, y_pred, top=50)\n",
    "rmse_score_value = rmse_score(test_ratings, y_pred)\n",
    "\n",
    "print(f'Baseline MAP: {map_score_value}')\n",
    "print(f'Baseline MRR: {mrr_score_value}')\n",
    "print(f'Baseline NDCG: {ndcg_score_value}')\n",
    "print(f'Baseline RMSE: {rmse_score_value}')"
   ],
   "metadata": {
    "collapsed": false,
    "ExecuteTime": {
     "end_time": "2024-06-11T19:57:24.394819Z",
     "start_time": "2024-06-11T19:57:20.508297Z"
    }
   },
   "id": "6977dffc0cedbad",
   "execution_count": 4
  }
 ],
 "metadata": {
  "kernelspec": {
   "display_name": "Python 3",
   "language": "python",
   "name": "python3"
  },
  "language_info": {
   "codemirror_mode": {
    "name": "ipython",
    "version": 2
   },
   "file_extension": ".py",
   "mimetype": "text/x-python",
   "name": "python",
   "nbconvert_exporter": "python",
   "pygments_lexer": "ipython2",
   "version": "2.7.6"
  }
 },
 "nbformat": 4,
 "nbformat_minor": 5
}
