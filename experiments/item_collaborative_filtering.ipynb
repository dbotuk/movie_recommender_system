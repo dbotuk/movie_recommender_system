{
 "cells": [
  {
   "cell_type": "code",
   "id": "initial_id",
   "metadata": {
    "collapsed": true,
    "ExecuteTime": {
     "end_time": "2024-06-16T19:50:32.485198Z",
     "start_time": "2024-06-16T19:50:31.703975Z"
    }
   },
   "source": [
    "import pandas as pd\n",
    "from src.utils import train_test_split\n",
    "from src.models.item_collaborative_filtering import ItemCollaborativeFiltering\n",
    "from src.metrics import map_score, mrr_score, ndcg_score, rmse_score\n",
    "from tqdm import tqdm\n",
    "from src.utils import RatingMatrix"
   ],
   "outputs": [],
   "execution_count": 1
  },
  {
   "metadata": {
    "ExecuteTime": {
     "end_time": "2024-06-16T19:50:37.412127Z",
     "start_time": "2024-06-16T19:50:32.485198Z"
    }
   },
   "cell_type": "code",
   "source": [
    "ratings = pd.read_table(\"../data/ratings.dat\", sep=\"::\", names=['UserID', 'MovieID', 'Rating', 'Timestamp'], engine='python')\n",
    "ratings['Timestamp'] = pd.to_datetime(ratings['Timestamp'], unit='s')"
   ],
   "id": "7dae199c0427d377",
   "outputs": [],
   "execution_count": 2
  },
  {
   "metadata": {
    "ExecuteTime": {
     "end_time": "2024-06-16T19:50:37.485580Z",
     "start_time": "2024-06-16T19:50:37.412127Z"
    }
   },
   "cell_type": "code",
   "source": "ratings1 = RatingMatrix(ratings[ratings.UserID <= 1000].pivot(index='MovieID', columns='UserID', values='Rating'))",
   "id": "3be9fad0ba673630",
   "outputs": [],
   "execution_count": 3
  },
  {
   "metadata": {
    "ExecuteTime": {
     "end_time": "2024-06-16T19:50:44.120331Z",
     "start_time": "2024-06-16T19:50:37.485580Z"
    }
   },
   "cell_type": "code",
   "source": [
    "filtering = ItemCollaborativeFiltering()\n",
    "filtering.fit(ratings1)"
   ],
   "id": "eb5375ac29893e01",
   "outputs": [],
   "execution_count": 4
  },
  {
   "metadata": {
    "ExecuteTime": {
     "end_time": "2024-06-16T20:18:30.285217Z",
     "start_time": "2024-06-16T19:50:44.120331Z"
    }
   },
   "cell_type": "code",
   "source": [
    "predicted_ratings = RatingMatrix(pd.DataFrame(index=ratings1.get_rating_matrix().index, columns=ratings1.get_rating_matrix().columns))\n",
    "for user_id in tqdm(ratings1.get_rating_matrix().columns):\n",
    "    for movie_id in ratings1.get_rating_matrix().index:\n",
    "        if pd.isna(ratings1.get_rating(user_id, movie_id)):\n",
    "            continue\n",
    "        predicted_rating = filtering.predict(user_id, movie_id)\n",
    "        predicted_ratings.matrix.loc[movie_id, user_id] = predicted_rating"
   ],
   "id": "55dce18b5e41a0ac",
   "outputs": [
    {
     "name": "stderr",
     "output_type": "stream",
     "text": [
      "100%|██████████| 1000/1000 [27:46<00:00,  1.67s/it] \n"
     ]
    }
   ],
   "execution_count": 5
  },
  {
   "metadata": {
    "ExecuteTime": {
     "end_time": "2024-06-16T20:18:34.618481Z",
     "start_time": "2024-06-16T20:18:30.308794Z"
    }
   },
   "cell_type": "code",
   "source": [
    "map_result = map_score(ratings1, predicted_ratings)\n",
    "mrr_result = mrr_score(ratings1, predicted_ratings)\n",
    "ndcg_result = ndcg_score(ratings1, predicted_ratings)\n",
    "rmse_result = rmse_score(ratings1, predicted_ratings)"
   ],
   "id": "5e432b36779fb44c",
   "outputs": [],
   "execution_count": 6
  },
  {
   "metadata": {
    "ExecuteTime": {
     "end_time": "2024-06-16T20:18:34.629505Z",
     "start_time": "2024-06-16T20:18:34.621494Z"
    }
   },
   "cell_type": "code",
   "source": [
    "print(f\"MAP: {map_result}\")\n",
    "print(f\"MRR: {mrr_result}\")\n",
    "print(f\"NDCG: {ndcg_result}\")\n",
    "print(f\"RMSE: {rmse_result}\")"
   ],
   "id": "dcef2d9370d1cabe",
   "outputs": [
    {
     "name": "stdout",
     "output_type": "stream",
     "text": [
      "MAP: 0.18455182539682521\n",
      "MRR: 0.47820634920634914\n",
      "NDCG: 0.3064000375401966\n",
      "RMSE: 0.8615412604244066\n"
     ]
    }
   ],
   "execution_count": 7
  }
 ],
 "metadata": {
  "kernelspec": {
   "display_name": "Python 3",
   "language": "python",
   "name": "python3"
  },
  "language_info": {
   "codemirror_mode": {
    "name": "ipython",
    "version": 2
   },
   "file_extension": ".py",
   "mimetype": "text/x-python",
   "name": "python",
   "nbconvert_exporter": "python",
   "pygments_lexer": "ipython2",
   "version": "2.7.6"
  }
 },
 "nbformat": 4,
 "nbformat_minor": 5
}
